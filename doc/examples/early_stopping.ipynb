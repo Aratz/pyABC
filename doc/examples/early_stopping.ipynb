{
 "cells": [
  {
   "cell_type": "markdown",
   "metadata": {},
   "source": [
    "Early stopping of model simulations\n",
    "==================="
   ]
  },
  {
   "cell_type": "raw",
   "metadata": {},
   "source": [
    "For certain distance functions and certain models it is possible to calculate the\n",
    "distance \"on the fly\" while the model is running.\n",
    "This is, for instance, possible if the distance is calculated as cumulative sum\n",
    "and the model is a stochastic process.\n",
    "For example, Markov Jump Processes belong to this class.\n",
    "However, we want to keep things simple here and only demonstrate how to use the pyABC\n",
    "interface in such cases.\n",
    "So don't expect a sophisticated (or even useful) model implementation here.\n",
    "\n",
    "This notebook can be downloaded here:\n",
    ":download:`Early Stopping <early_stopping.ipynb>`.\n",
    "\n",
    "\n",
    "In this example we'll use, amongst others, the following classes\n",
    "\n",
    "* :class:`IntegratedModel <pyabc.model.IntegratedModel>`\n",
    "* :class:`ModelResult <pyabc.model.ModelResult>`\n",
    "\n",
    "for integrated simulation and accepting/rejecting a parameter.\n",
    "\n",
    "Let's start with the necessary imports."
   ]
  },
  {
   "cell_type": "code",
   "execution_count": 1,
   "metadata": {
    "collapsed": true
   },
   "outputs": [],
   "source": [
    "from pyabc import (ABCSMC,\n",
    "                   RV, Distribution,\n",
    "                   IntegratedModel, ModelResult,\n",
    "                   MedianEpsilon,\n",
    "                   LocalTransition)\n",
    "from pyabc.sampler import SingleCoreSampler\n",
    "import matplotlib.pyplot as plt\n",
    "%matplotlib inline\n",
    "import os\n",
    "import tempfile\n",
    "import pandas as pd\n",
    "import scipy as sp\n",
    "db_path = (\"sqlite:///\" +\n",
    "           os.path.join(tempfile.gettempdir(), \"test.db\"))"
   ]
  },
  {
   "cell_type": "raw",
   "metadata": {},
   "source": [
    "We define here a (very) simple stochastic process, purely for demonstrative reasons.\n",
    "First, we fix the number of steps ``n_steps`` to 30."
   ]
  },
  {
   "cell_type": "code",
   "execution_count": 2,
   "metadata": {
    "collapsed": true
   },
   "outputs": [],
   "source": [
    "n_steps = 30"
   ]
  },
  {
   "cell_type": "raw",
   "metadata": {},
   "source": [
    "We then define our process as follows:\n",
    "\n",
    ".. math::\n",
    "\n",
    "   x(t+1) = x(t) + s \\xi\n",
    "   \n",
    "in which :math:`\\xi \\sim U(0, 1)` denotes a uniformly in [0, 1] distributed\n",
    "random variable and s is the step size, s = ``step_size``.\n",
    "\n",
    "The function ``simulate`` implements this stochastic process."
   ]
  },
  {
   "cell_type": "code",
   "execution_count": 3,
   "metadata": {
    "collapsed": true
   },
   "outputs": [],
   "source": [
    "def simulate(step_size):\n",
    "    trajectory = sp.zeros(n_steps)\n",
    "    for t in range(1, n_steps):\n",
    "        xi = sp.rand()\n",
    "        trajectory[t] = trajectory[t-1] + xi * step_size\n",
    "    return trajectory"
   ]
  },
  {
   "cell_type": "raw",
   "metadata": {},
   "source": [
    "We take as distance function between two such generated trajectories\n",
    "the sum of the absolute values of the pointwise differences."
   ]
  },
  {
   "cell_type": "code",
   "execution_count": 4,
   "metadata": {
    "collapsed": true
   },
   "outputs": [],
   "source": [
    "def distance(trajectory_1, trajectory_2):\n",
    "    return sp.absolute(trajectory_1 - trajectory_2).sum()"
   ]
  },
  {
   "cell_type": "raw",
   "metadata": {},
   "source": [
    "Let's run the simulation and plot the trajectories to get a better\n",
    "idea of the so generated data.\n",
    "We set the ground truth step size ``gt_step_size`` to "
   ]
  },
  {
   "cell_type": "code",
   "execution_count": 5,
   "metadata": {
    "collapsed": true
   },
   "outputs": [],
   "source": [
    "gt_step_size = 5"
   ]
  },
  {
   "cell_type": "raw",
   "metadata": {},
   "source": [
    "This will be used to generate the data which will be subject to inference later on."
   ]
  },
  {
   "cell_type": "code",
   "execution_count": 6,
   "metadata": {},
   "outputs": [
    {
     "data": {
      "image/png": "[encoded data removed]",
      "text/plain": [
       "<matplotlib.figure.Figure at 0x1d3fa1dd898>"
      ]
     },
     "metadata": {},
     "output_type": "display_data"
    }
   ],
   "source": [
    "gt_trajectory = simulate(gt_step_size)\n",
    "trajectoy_2 = simulate(2)\n",
    "\n",
    "dist_1_2 = distance(gt_trajectory, trajectoy_2)\n",
    "\n",
    "plt.plot(gt_trajectory,\n",
    "    label=\"Step size = {} (Ground Truth)\".format(gt_step_size))\n",
    "plt.plot(trajectoy_2,\n",
    "    label=\"Step size = 2\")\n",
    "plt.legend();\n",
    "plt.title(\"Distance={:.2f}\".format(dist_1_2));"
   ]
  },
  {
   "cell_type": "raw",
   "metadata": {},
   "source": [
    "As you might have noted already we could calculate the distance on the fly.\n",
    "After each step in the stochastic process, we could increment the cumulative sum.\n",
    "This will supposedly save time in the ABC-SMC run later on.\n",
    "To implement this in pyABC we use the :class:`IntegratedModel <pyabc.model.IntegratedModel>`.\n",
    "\n",
    "Let's start with the code first and explain it afterwards."
   ]
  },
  {
   "cell_type": "code",
   "execution_count": 7,
   "metadata": {
    "collapsed": true
   },
   "outputs": [],
   "source": [
    "class MyStochasticProcess(IntegratedModel):\n",
    "    def __init__(self, *args, **kwargs):\n",
    "        super().__init__(*args, **kwargs)\n",
    "        self.n_early_stopped = 0\n",
    "    \n",
    "    def integrated_simulate(self, pars, eps):\n",
    "        cumsum = 0\n",
    "        trajectory = sp.zeros(n_steps)\n",
    "        for t in range(1, n_steps):\n",
    "            xi = sp.rand()\n",
    "            next_val = trajectory[t-1] + xi * pars[\"step_size\"]\n",
    "            cumsum += abs(next_val - gt_trajectory[t])\n",
    "            trajectory[t] = next_val\n",
    "            if cumsum > eps:\n",
    "                self.n_early_stopped += 1\n",
    "                return ModelResult(accepted=False)\n",
    "            \n",
    "        return ModelResult(accepted=True,\n",
    "                           distance=cumsum,\n",
    "                           sum_stats={\"trajectory\": trajectory})"
   ]
  },
  {
   "cell_type": "raw",
   "metadata": {},
   "source": [
    "Our ``MyStochasticProcess`` class is a sublcass of :class:`IntegratedModel <pyabc.model.IntegratedModel>`.\n",
    "\n",
    "The ``__init__`` method is not really necessary. Here, we just want to keep\n",
    "track of how often early stopping has actually happened.\n",
    "\n",
    "More interesting is the ``integrated_simulate`` method. This is where the real thing\n",
    "happens.\n",
    "As already said, we calculate the cumulative sum on the fly.\n",
    "In each simulation step, we update the cumulative sum.\n",
    "Note, that ``gt_trajectory`` is actually a global variable here.\n",
    "If ``cumsum > eps`` at some step of the simulation, we return immediately\n",
    "indicating, that the parameter was not accepted\n",
    "by returning ``ModelResult(accepted=False)``.\n",
    "If the ``cumsum`` never passed ``eps``, the parameter got accepted. In this case\n",
    "we return an accepted result together with the calculated distance and the trajectory.\n",
    "Note that, while it is mandatory to return the distance, returning the trajectory is optional. If it is returned, it is stored in the database.\n",
    "\n",
    "We define a uniform prior over the interval [0, 10] over the step size"
   ]
  },
  {
   "cell_type": "code",
   "execution_count": 8,
   "metadata": {
    "collapsed": true
   },
   "outputs": [],
   "source": [
    "prior = Distribution(step_size=RV(\"uniform\", 0 , 10))"
   ]
  },
  {
   "cell_type": "raw",
   "metadata": {},
   "source": [
    "and create and instance of our integrated model MyStochasticProcess"
   ]
  },
  {
   "cell_type": "code",
   "execution_count": 9,
   "metadata": {
    "collapsed": true
   },
   "outputs": [],
   "source": [
    "model = MyStochasticProcess()"
   ]
  },
  {
   "cell_type": "raw",
   "metadata": {},
   "source": [
    "We then configure the ABC-SMC run.\n",
    "As the distance function is calculated within ``MyStochasticProcess`` we just pass\n",
    "``None`` to the ``distance_function`` parameter.\n",
    "As sampler, we use the ``SingleCoreSampler`` here.\n",
    "We do so, to keep correctly track of ``MyStochasticProcess.n_early_stopped``.\n",
    "Otherwise, the counter gets incremented in subprocesses and we don't see anything here.\n",
    "Of course, you could also use the ``MyStochasticProcess`` model in a multi-core or\n",
    "distributed setting.\n",
    "\n",
    "Importantly, we pre-specify the initial acceptance threshold to a given value, here to 300.\n",
    "Otherwise, pyABC will try to automatically determine it by drawing samples from the prior\n",
    "and evaluating the distance function.\n",
    "However, we do not have a distance function here, so this approach will break down."
   ]
  },
  {
   "cell_type": "code",
   "execution_count": 10,
   "metadata": {
    "collapsed": true
   },
   "outputs": [],
   "source": [
    "abc = ABCSMC(models=model,\n",
    "             parameter_priors=prior,\n",
    "             distance_function=None,\n",
    "             sampler=SingleCoreSampler(),\n",
    "             population_size=30,\n",
    "             transitions=LocalTransition(k_fraction=.2),\n",
    "             eps=MedianEpsilon(300, median_multiplier=0.7))"
   ]
  },
  {
   "cell_type": "raw",
   "metadata": {},
   "source": [
    "We then indicate, that we want to start a new ABC-SMC run."
   ]
  },
  {
   "cell_type": "code",
   "execution_count": 11,
   "metadata": {},
   "outputs": [
    {
     "name": "stderr",
     "output_type": "stream",
     "text": [
      "INFO:Epsilon:initial epsilon is 300\n",
      "INFO:History:Start <ABCSMC(id=2, start_time=2018-04-08 23:02:18.068176, end_time=None)>\n"
     ]
    },
    {
     "data": {
      "text/plain": [
       "2"
      ]
     },
     "execution_count": 11,
     "metadata": {},
     "output_type": "execute_result"
    }
   ],
   "source": [
    "abc.new(db_path)"
   ]
  },
  {
   "cell_type": "raw",
   "metadata": {},
   "source": [
    "We do not need to pass any data here.\n",
    "However, we could still pass additionally\n",
    "a dictionary ``{\"trajectory\": gt_trajectory}`` only for storage purposes\n",
    "to the ``new`` method.\n",
    "The data will be ignored during the ABC-SMC run, however.\n",
    "\n",
    "Then, let's start the sampling"
   ]
  },
  {
   "cell_type": "code",
   "execution_count": 12,
   "metadata": {},
   "outputs": [
    {
     "name": "stderr",
     "output_type": "stream",
     "text": [
      "INFO:ABC:t:0 eps:300\n",
      "INFO:ABC:t:1 eps:143.6507877660781\n",
      "INFO:ABC:t:2 eps:68.90141208443156\n",
      "INFO:History:Done <ABCSMC(id=2, start_time=2018-04-08 23:02:18.068176, end_time=2018-04-08 23:02:19.461098)>\n"
     ]
    }
   ],
   "source": [
    "h = abc.run(minimum_epsilon=40, max_nr_populations=3)"
   ]
  },
  {
   "cell_type": "raw",
   "metadata": {},
   "source": [
    "and check how often the early stopping was used"
   ]
  },
  {
   "cell_type": "code",
   "execution_count": 13,
   "metadata": {},
   "outputs": [
    {
     "data": {
      "text/plain": [
       "278"
      ]
     },
     "execution_count": 13,
     "metadata": {},
     "output_type": "execute_result"
    }
   ],
   "source": [
    "model.n_early_stopped"
   ]
  },
  {
   "cell_type": "raw",
   "metadata": {},
   "source": [
    "quite a lot actually."
   ]
  },
  {
   "cell_type": "raw",
   "metadata": {},
   "source": [
    "Lastly we estimate KDEs of the different populations to inspect our results\n",
    "and plot everything (the vertical dashed line is the ground truth step size)."
   ]
  },
  {
   "cell_type": "code",
   "execution_count": 14,
   "metadata": {},
   "outputs": [
    {
     "data": {
      "image/png": "[encoded data removed]",
      "text/plain": [
       "<matplotlib.figure.Figure at 0x1d3fa7f0d68>"
      ]
     },
     "metadata": {},
     "output_type": "display_data"
    }
   ],
   "source": [
    "from pyabc.visualization import plot_kde_1d\n",
    "fig, ax = plt.subplots()\n",
    "\n",
    "for t in range(h.max_t+1):\n",
    "    particles = h.get_distribution(m=0, t=t)\n",
    "    plot_kde_1d(*particles, \"step_size\",\n",
    "                label=\"t={}\".format(t), ax=ax,\n",
    "                xmin=0, xmax=10, numx=300)\n",
    "ax.axvline(gt_step_size, color=\"k\", linestyle=\"dashed\");    "
   ]
  },
  {
   "cell_type": "raw",
   "metadata": {},
   "source": [
    "That's it. You should be able to see how the distribution\n",
    "contracts around the true parameter."
   ]
  }
 ],
 "metadata": {
  "celltoolbar": "Raw Cell Format",
  "kernelspec": {
   "display_name": "Python 3",
   "language": "python",
   "name": "python3"
  },
  "language_info": {
   "codemirror_mode": {
    "name": "ipython",
    "version": 3
   },
   "file_extension": ".py",
   "mimetype": "text/x-python",
   "name": "python",
   "nbconvert_exporter": "python",
   "pygments_lexer": "ipython3",
   "version": "3.6.3"
  }
 },
 "nbformat": 4,
 "nbformat_minor": 2
}
