{
 "cells": [
  {
   "cell_type": "code",
   "execution_count": 19,
   "metadata": {},
   "outputs": [],
   "source": [
    "import rpy2.robjects as robjects\n",
    "from rpy2.robjects import r, pandas2ri\n",
    "import numpy as np\n",
    "from pyabc import Distribution, RV, ABCSMC\n",
    "from pyabc.sampler import SingleCoreSampler\n",
    "from pyabc.transition import MultivariateNormalTransition\n",
    "import matplotlib.pyplot as plt\n",
    "import pandas as pd\n",
    "%matplotlib inline\n",
    "from IPython.display import TextDisplayObject"
   ]
  },
  {
   "cell_type": "code",
   "execution_count": 24,
   "metadata": {},
   "outputs": [
    {
     "data": {
      "text/html": [
       "<style type=\"text/css\">.highlight .hll { background-color: #ffffcc }\n",
       ".highlight  { background: #f8f8f8; }\n",
       ".highlight .c { color: #408080; font-style: italic } /* Comment */\n",
       ".highlight .err { border: 1px solid #FF0000 } /* Error */\n",
       ".highlight .k { color: #008000; font-weight: bold } /* Keyword */\n",
       ".highlight .o { color: #666666 } /* Operator */\n",
       ".highlight .ch { color: #408080; font-style: italic } /* Comment.Hashbang */\n",
       ".highlight .cm { color: #408080; font-style: italic } /* Comment.Multiline */\n",
       ".highlight .cp { color: #BC7A00 } /* Comment.Preproc */\n",
       ".highlight .cpf { color: #408080; font-style: italic } /* Comment.PreprocFile */\n",
       ".highlight .c1 { color: #408080; font-style: italic } /* Comment.Single */\n",
       ".highlight .cs { color: #408080; font-style: italic } /* Comment.Special */\n",
       ".highlight .gd { color: #A00000 } /* Generic.Deleted */\n",
       ".highlight .ge { font-style: italic } /* Generic.Emph */\n",
       ".highlight .gr { color: #FF0000 } /* Generic.Error */\n",
       ".highlight .gh { color: #000080; font-weight: bold } /* Generic.Heading */\n",
       ".highlight .gi { color: #00A000 } /* Generic.Inserted */\n",
       ".highlight .go { color: #888888 } /* Generic.Output */\n",
       ".highlight .gp { color: #000080; font-weight: bold } /* Generic.Prompt */\n",
       ".highlight .gs { font-weight: bold } /* Generic.Strong */\n",
       ".highlight .gu { color: #800080; font-weight: bold } /* Generic.Subheading */\n",
       ".highlight .gt { color: #0044DD } /* Generic.Traceback */\n",
       ".highlight .kc { color: #008000; font-weight: bold } /* Keyword.Constant */\n",
       ".highlight .kd { color: #008000; font-weight: bold } /* Keyword.Declaration */\n",
       ".highlight .kn { color: #008000; font-weight: bold } /* Keyword.Namespace */\n",
       ".highlight .kp { color: #008000 } /* Keyword.Pseudo */\n",
       ".highlight .kr { color: #008000; font-weight: bold } /* Keyword.Reserved */\n",
       ".highlight .kt { color: #B00040 } /* Keyword.Type */\n",
       ".highlight .m { color: #666666 } /* Literal.Number */\n",
       ".highlight .s { color: #BA2121 } /* Literal.String */\n",
       ".highlight .na { color: #7D9029 } /* Name.Attribute */\n",
       ".highlight .nb { color: #008000 } /* Name.Builtin */\n",
       ".highlight .nc { color: #0000FF; font-weight: bold } /* Name.Class */\n",
       ".highlight .no { color: #880000 } /* Name.Constant */\n",
       ".highlight .nd { color: #AA22FF } /* Name.Decorator */\n",
       ".highlight .ni { color: #999999; font-weight: bold } /* Name.Entity */\n",
       ".highlight .ne { color: #D2413A; font-weight: bold } /* Name.Exception */\n",
       ".highlight .nf { color: #0000FF } /* Name.Function */\n",
       ".highlight .nl { color: #A0A000 } /* Name.Label */\n",
       ".highlight .nn { color: #0000FF; font-weight: bold } /* Name.Namespace */\n",
       ".highlight .nt { color: #008000; font-weight: bold } /* Name.Tag */\n",
       ".highlight .nv { color: #19177C } /* Name.Variable */\n",
       ".highlight .ow { color: #AA22FF; font-weight: bold } /* Operator.Word */\n",
       ".highlight .w { color: #bbbbbb } /* Text.Whitespace */\n",
       ".highlight .mb { color: #666666 } /* Literal.Number.Bin */\n",
       ".highlight .mf { color: #666666 } /* Literal.Number.Float */\n",
       ".highlight .mh { color: #666666 } /* Literal.Number.Hex */\n",
       ".highlight .mi { color: #666666 } /* Literal.Number.Integer */\n",
       ".highlight .mo { color: #666666 } /* Literal.Number.Oct */\n",
       ".highlight .sa { color: #BA2121 } /* Literal.String.Affix */\n",
       ".highlight .sb { color: #BA2121 } /* Literal.String.Backtick */\n",
       ".highlight .sc { color: #BA2121 } /* Literal.String.Char */\n",
       ".highlight .dl { color: #BA2121 } /* Literal.String.Delimiter */\n",
       ".highlight .sd { color: #BA2121; font-style: italic } /* Literal.String.Doc */\n",
       ".highlight .s2 { color: #BA2121 } /* Literal.String.Double */\n",
       ".highlight .se { color: #BB6622; font-weight: bold } /* Literal.String.Escape */\n",
       ".highlight .sh { color: #BA2121 } /* Literal.String.Heredoc */\n",
       ".highlight .si { color: #BB6688; font-weight: bold } /* Literal.String.Interpol */\n",
       ".highlight .sx { color: #008000 } /* Literal.String.Other */\n",
       ".highlight .sr { color: #BB6688 } /* Literal.String.Regex */\n",
       ".highlight .s1 { color: #BA2121 } /* Literal.String.Single */\n",
       ".highlight .ss { color: #19177C } /* Literal.String.Symbol */\n",
       ".highlight .bp { color: #008000 } /* Name.Builtin.Pseudo */\n",
       ".highlight .fm { color: #0000FF } /* Name.Function.Magic */\n",
       ".highlight .vc { color: #19177C } /* Name.Variable.Class */\n",
       ".highlight .vg { color: #19177C } /* Name.Variable.Global */\n",
       ".highlight .vi { color: #19177C } /* Name.Variable.Instance */\n",
       ".highlight .vm { color: #19177C } /* Name.Variable.Magic */\n",
       ".highlight .il { color: #666666 } /* Literal.Number.Integer.Long */</style><div class=\"highlight\"><pre><span></span><span class=\"c1\"># Blue print for pyABC parameter inference runs.</span>\n",
       "<span class=\"c1\"># A proposal of how to structure an R file for usage with pyABC</span>\n",
       "\n",
       "\n",
       "<span class=\"c1\">#&#39; The model to be simulated.</span>\n",
       "<span class=\"c1\">#&#39; </span>\n",
       "<span class=\"c1\">#&#39; The number of parameters depends on the model and can</span>\n",
       "<span class=\"c1\">#&#39; be arbitrary. However, the parameters should be real or integer numbers.</span>\n",
       "<span class=\"c1\">#&#39; The return type is arbitrary as well.</span>\n",
       "model <span class=\"o\">&lt;-</span> <span class=\"kr\">function</span><span class=\"p\">(</span>pars<span class=\"p\">){</span>\n",
       "  x <span class=\"o\">&lt;-</span> rnorm<span class=\"p\">(</span><span class=\"m\">1</span><span class=\"p\">)</span> <span class=\"o\">+</span> pars<span class=\"o\">$</span>x\n",
       "  y <span class=\"o\">&lt;-</span> rnorm<span class=\"p\">(</span><span class=\"m\">1</span><span class=\"p\">)</span> <span class=\"o\">+</span> pars<span class=\"o\">$</span>y\n",
       "  <span class=\"kt\">c</span><span class=\"p\">(</span>x<span class=\"p\">,</span>y<span class=\"p\">)</span>\n",
       "<span class=\"p\">}</span>\n",
       "\n",
       "<span class=\"c1\">#&#39; Calculates summary statistics from whatever the model returns</span>\n",
       "<span class=\"c1\">#&#39; </span>\n",
       "<span class=\"c1\">#&#39; It is important that the summary statistics have names to store it correctly in pyABC&#39;s database</span>\n",
       "<span class=\"c1\">#&#39; </span>\n",
       "<span class=\"c1\">#&#39; @param modelResult The data simulated by the model</span>\n",
       "<span class=\"c1\">#&#39; @return Named list of summary statistics.</span>\n",
       "summaryStatistics <span class=\"o\">&lt;-</span> <span class=\"kr\">function</span><span class=\"p\">(</span>modelResult<span class=\"p\">){</span>\n",
       "  <span class=\"kt\">list</span><span class=\"p\">(</span>x<span class=\"o\">=</span>modelResult<span class=\"p\">[</span><span class=\"m\">1</span><span class=\"p\">],</span> y<span class=\"o\">=</span>modelResult<span class=\"p\">[</span><span class=\"m\">2</span><span class=\"p\">])</span>\n",
       "<span class=\"p\">}</span>\n",
       "\n",
       "<span class=\"c1\">#&#39; Calculate distance between summary statistics</span>\n",
       "<span class=\"c1\">#&#39; </span>\n",
       "<span class=\"c1\">#&#39; @param sumStatSample The summary statistics of the sample proposed py pyABC</span>\n",
       "<span class=\"c1\">#&#39; @param sumStatData The summary statistics of the observed data for which we want to calculate the posterior.</span>\n",
       "<span class=\"c1\">#&#39; @return A single float</span>\n",
       "distance <span class=\"o\">&lt;-</span> <span class=\"kr\">function</span><span class=\"p\">(</span>sumStatSample<span class=\"p\">,</span> sumStatData<span class=\"p\">){</span>\n",
       "  <span class=\"kp\">abs</span><span class=\"p\">(</span>sumStatSample<span class=\"o\">$</span>x <span class=\"o\">-</span> sumStatData<span class=\"o\">$</span>x<span class=\"p\">)</span> <span class=\"o\">+</span> <span class=\"kp\">abs</span><span class=\"p\">(</span>sumStatSample<span class=\"o\">$</span>y <span class=\"o\">-</span> sumStatData<span class=\"o\">$</span>y<span class=\"p\">)</span>\n",
       "<span class=\"p\">}</span>\n",
       "\n",
       "observation <span class=\"o\">&lt;-</span> <span class=\"kt\">list</span><span class=\"p\">(</span>x<span class=\"o\">=</span><span class=\"m\">4</span><span class=\"p\">,</span> y<span class=\"o\">=</span><span class=\"m\">8</span><span class=\"p\">)</span>\n",
       "\n",
       "<span class=\"c1\"># The functions model, summaryStatistics and distance have to be constructed in a</span>\n",
       "<span class=\"c1\"># such that the following always makes sense.</span>\n",
       "<span class=\"c1\"># Note: The model function can in principle already return</span>\n",
       "<span class=\"c1\"># a named list and the summary statistics function can just pass it through.</span>\n",
       "<span class=\"c1\"># A separate summary statistics function is mainly useful in a model selection</span>\n",
       "<span class=\"c1\"># scenario.</span>\n",
       "<span class=\"c1\">#print(distance(summaryStatistics(model(1,2)), summaryStatistics(model(3,4))))</span>\n",
       "</pre></div>\n"
      ],
      "text/plain": [
       "<IPython.core.display.HTML object>"
      ]
     },
     "execution_count": 24,
     "metadata": {},
     "output_type": "execute_result"
    }
   ],
   "source": [
    "from pygments import highlight\n",
    "from pygments.lexers import SLexer\n",
    "\n",
    "from pygments.formatters import HtmlFormatter\n",
    "import IPython\n",
    "\n",
    "with open('pyABC_blueprint.R') as f:\n",
    "    code = f.read()\n",
    "\n",
    "formatter = HtmlFormatter()\n",
    "IPython.display.HTML('<style type=\"text/css\">{}</style>{}'.format(\n",
    "    formatter.get_style_defs('.highlight'),\n",
    "    highlight(code, SLexer(), formatter)))"
   ]
  },
  {
   "cell_type": "code",
   "execution_count": 2,
   "metadata": {},
   "outputs": [],
   "source": [
    "blue_print = robjects.r[\"source\"](\"pyABC_blueprint.R\")"
   ]
  },
  {
   "cell_type": "code",
   "execution_count": 3,
   "metadata": {},
   "outputs": [],
   "source": [
    "model = robjects.r[\"model\"]\n",
    "distance = robjects.r[\"distance\"]\n",
    "summary_statistics = robjects.r[\"summaryStatistics\"]\n",
    "summary_statistics.__name__ = \"summaryStatistics\""
   ]
  },
  {
   "cell_type": "code",
   "execution_count": 4,
   "metadata": {
    "collapsed": true
   },
   "outputs": [],
   "source": [
    "def convert_numeric(x):\n",
    "    arr = np.array(x)\n",
    "    try:\n",
    "        return float(arr)\n",
    "    except TypeError:\n",
    "        return arr\n",
    "    \n",
    "\n",
    "def named_list_to_dict(r_named_list):\n",
    "    return {key: convert_numeric(val) for key, val in zip(r_named_list.names, r_named_list)}"
   ]
  },
  {
   "cell_type": "code",
   "execution_count": 5,
   "metadata": {},
   "outputs": [],
   "source": [
    "def model_py(par):\n",
    "    return model(robjects.r.list(**par))\n",
    "\n",
    "def distance_py(*args):\n",
    "    return float(np.array(distance(*args)))"
   ]
  },
  {
   "cell_type": "code",
   "execution_count": 6,
   "metadata": {},
   "outputs": [],
   "source": [
    "prior = Distribution(x=RV(\"uniform\", 0, 10),\n",
    "                     y=RV(\"uniform\", 0, 10))\n",
    "abc = ABCSMC(model_py, prior, distance_py, sampler=SingleCoreSampler(),\n",
    "             summary_statistics=summary_statistics)"
   ]
  },
  {
   "cell_type": "code",
   "execution_count": 7,
   "metadata": {},
   "outputs": [
    {
     "name": "stderr",
     "output_type": "stream",
     "text": [
      "INFO:Epsilon:initial epsilon is 7.127650626080321\n",
      "INFO:History:Start <ABCSMC(id=14, start_time=2017-07-25 17:18:48.714937, end_time=None)>\n"
     ]
    },
    {
     "data": {
      "text/plain": [
       "14"
      ]
     },
     "execution_count": 7,
     "metadata": {},
     "output_type": "execute_result"
    }
   ],
   "source": [
    "abc.new(\"sqlite:////home/emmanuel/tmp/abctest.db\",\n",
    "        robjects.r[\"observation\"])"
   ]
  },
  {
   "cell_type": "code",
   "execution_count": 8,
   "metadata": {},
   "outputs": [
    {
     "name": "stderr",
     "output_type": "stream",
     "text": [
      "INFO:ABC:t:0 eps:7.12765062608\n",
      "INFO:ABC:t:1 eps:4.350452323590881\n",
      "INFO:ABC:t:2 eps:3.053934381790566\n",
      "INFO:ABC:t:3 eps:2.233466185827349\n",
      "INFO:ABC:t:4 eps:1.623580931111455\n",
      "INFO:ABC:t:5 eps:1.2100306526374365\n",
      "INFO:ABC:t:6 eps:0.8569187811398395\n",
      "INFO:History:Done <ABCSMC(id=14, start_time=2017-07-25 17:18:48.714937, end_time=2017-07-25 17:18:59.359504)>\n"
     ]
    },
    {
     "data": {
      "text/plain": [
       "<pyabc.storage.history.History at 0x7f5cedb965f8>"
      ]
     },
     "execution_count": 8,
     "metadata": {},
     "output_type": "execute_result"
    }
   ],
   "source": [
    "abc.run(minimum_epsilon=0, max_nr_populations=7)"
   ]
  },
  {
   "cell_type": "code",
   "execution_count": 18,
   "metadata": {},
   "outputs": [
    {
     "data": {
      "image/png": "[encoded data removed]",
      "text/plain": [
       "<matplotlib.figure.Figure at 0x7f5ced9d5e80>"
      ]
     },
     "metadata": {},
     "output_type": "display_data"
    }
   ],
   "source": [
    "df, w = abc.history.get_distribution(0)\n",
    "kde = MultivariateNormalTransition(scaling=1)\n",
    "kde.fit(df,w)\n",
    "n_points = 200\n",
    "X, Y = np.meshgrid(np.linspace(0,10, n_points), np.linspace(0, 10, n_points))\n",
    "test = pd.DataFrame({\"x\": X.flatten(), \"y\": Y.flatten()})\n",
    "pdf = kde.pdf(test)\n",
    "PDF = pdf.reshape(X.shape)\n",
    "plt.pcolormesh(X, Y, PDF);"
   ]
  },
  {
   "cell_type": "code",
   "execution_count": null,
   "metadata": {
    "collapsed": true
   },
   "outputs": [],
   "source": []
  }
 ],
 "metadata": {
  "kernelspec": {
   "display_name": "Python 3",
   "language": "python",
   "name": "python3"
  },
  "language_info": {
   "codemirror_mode": {
    "name": "ipython",
    "version": 3
   },
   "file_extension": ".py",
   "mimetype": "text/x-python",
   "name": "python",
   "nbconvert_exporter": "python",
   "pygments_lexer": "ipython3",
   "version": "3.6.2"
  }
 },
 "nbformat": 4,
 "nbformat_minor": 2
}
