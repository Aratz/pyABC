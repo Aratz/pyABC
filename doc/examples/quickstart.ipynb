{
 "cells": [
  {
   "cell_type": "markdown",
   "metadata": {
    "deletable": true,
    "editable": true
   },
   "source": [
    "Quickstart\n",
    "====="
   ]
  },
  {
   "cell_type": "raw",
   "metadata": {
    "deletable": true,
    "editable": true,
    "raw_mimetype": "text/restructuredtext"
   },
   "source": [
    "Exemplary model and parameter selection\n",
    "---------------------------------------\n",
    "\n",
    "Here is a small example on how to do Bayesian model selection using\n",
    "the following classes from the pyABC package:\n",
    "\n",
    "* :class:`ABCSMC <pyabc.smc.ABCSMC>`\n",
    "* :class:`RV <pyabc.random_variables.RV>`\n",
    "* :class:`Distribution <pyabc.random_variables.Distribution>`\n",
    "* :class:`PercentileDistanceFunction <pyabc.distance_functions.PercentileDistanceFunction>`\n",
    "* :class:`ConstantPopulationStrategy <pyabc.populationstrategy.ConstantPopulationStrategy>`."
   ]
  },
  {
   "cell_type": "raw",
   "metadata": {
    "deletable": true,
    "editable": true,
    "raw_mimetype": "text/restructuredtext"
   },
   "source": [
    "Step by step explanation\n",
    "------------------------\n",
    "\n",
    "Defining a model\n",
    "~~~~~~~~~~~~~~~~\n",
    "\n",
    "To do model selection, we need first some models. A model, in the simplest case,\n",
    "is just a callable which takes a single ``dict`` as input\n",
    "and returns a single ``dict`` as output. The keys of the input dictionary are the parameters of the model, the output\n",
    "keys denote the summary statistics.\n",
    "The ``dict`` is passed as ``args`` and has the parameter ``x``\n",
    "which denote in the above example the mean of the Gaussian.\n",
    "It returns the observed summary statistics ``y``, which\n",
    "is just the sampled value."
   ]
  },
  {
   "cell_type": "code",
   "execution_count": null,
   "metadata": {
    "collapsed": true,
    "deletable": true,
    "editable": true
   },
   "outputs": [],
   "source": [
    "%matplotlib inline\n",
    "import os\n",
    "import tempfile\n",
    "\n",
    "import scipy.stats as st\n",
    "\n",
    "from pyabc import (ABCSMC, RV, Distribution,\n",
    "                   PercentileDistanceFunction,\n",
    "                   ConstantPopulationStrategy)\n",
    "\n",
    "# Define a gaussian model\n",
    "sigma = .5\n",
    "\n",
    "\n",
    "def model(parameters):\n",
    "    # sample from a gaussian\n",
    "    y = st.norm(parameters.x, sigma).rvs()\n",
    "    # return the sample as dictionary\n",
    "    return {\"y\": y}"
   ]
  },
  {
   "cell_type": "raw",
   "metadata": {
    "deletable": true,
    "editable": true,
    "raw_mimetype": "text/restructuredtext"
   },
   "source": [
    "For model selection we usually have more than one model.\n",
    "These are assembled in a list. We\n",
    "require a Bayesian prior over the models.\n",
    "The default is to have a uniform prior over the model classes.\n",
    "This concludes the model definition."
   ]
  },
  {
   "cell_type": "code",
   "execution_count": null,
   "metadata": {
    "collapsed": true,
    "deletable": true,
    "editable": true
   },
   "outputs": [],
   "source": [
    "# We define two models, but they are identical so far\n",
    "models = [model, model]\n",
    "\n",
    "\n",
    "# However, our models' priors are not the same. Their mean differs.\n",
    "mu_x_1, mu_x_2 = 0, 1\n",
    "parameter_priors = [\n",
    "    Distribution(x=RV(\"norm\", mu_x_1, sigma)),\n",
    "    Distribution(x=RV(\"norm\", mu_x_2, sigma))\n",
    "]"
   ]
  },
  {
   "cell_type": "raw",
   "metadata": {
    "deletable": true,
    "editable": true,
    "raw_mimetype": "text/restructuredtext"
   },
   "source": [
    "Configuring the ABCSMC\n",
    "~~~~~~~~~~~~~~~~~~~~~~\n",
    "\n",
    "Having the models defined, we can plug together the ``ABCSMC`` class.\n",
    "We need a distance function,\n",
    "to measure the distance of obtained samples."
   ]
  },
  {
   "cell_type": "code",
   "execution_count": null,
   "metadata": {
    "collapsed": false,
    "deletable": true,
    "editable": true
   },
   "outputs": [],
   "source": [
    "# We plug all the ABC setup together with 2 populations maximum\n",
    "population_strategy = ConstantPopulationStrategy(100, 2)\n",
    "abc = ABCSMC(models, parameter_priors,\n",
    "             PercentileDistanceFunction(measures_to_use=[\"y\"]),\n",
    "             population_strategy)"
   ]
  },
  {
   "cell_type": "raw",
   "metadata": {
    "deletable": true,
    "editable": true,
    "raw_mimetype": "text/restructuredtext"
   },
   "source": [
    "Setting the observed data\n",
    "~~~~~~~~~~~~~~~~~~~~~~~~~\n",
    "\n",
    "Actually measured data can now be passed to the ABCSMC.\n",
    "This is set via the ``set_data`` method.\n",
    "Additional meta information such as model names is also passed.\n",
    "Moreover we have to set the output database."
   ]
  },
  {
   "cell_type": "code",
   "execution_count": null,
   "metadata": {
    "collapsed": false,
    "deletable": true,
    "editable": true
   },
   "outputs": [],
   "source": [
    "# y_observed is the important piece here: our actual observation.\n",
    "y_observed = 1\n",
    "# Finally we add meta data such as model names\n",
    "# and define where to store the results\n",
    "db_path = (\"sqlite:///\" +\n",
    "           os.path.join(tempfile.gettempdir(), \"test.db\"))\n",
    "abc.set_data({\"y\": y_observed}, db_path)"
   ]
  },
  {
   "cell_type": "raw",
   "metadata": {
    "deletable": true,
    "editable": true,
    "raw_mimetype": "text/restructuredtext"
   },
   "source": [
    "Running the ABC\n",
    "~~~~~~~~~~~~~~~\n",
    "\n",
    "We run the ``ABCSMC`` specifying the epsilon value at which to terminate.\n",
    "The default epsilon strategy is hte :class:`pyabc.epsilon.MedianEpsilon.`\n",
    "Whatever is reached first, the epsilon or the maximum number allowed populations,\n",
    "terminates the ABC run. The result is a :class:`History <pyabc.storage.History>` object which\n",
    "can, for example be queried for the posterior probabilities."
   ]
  },
  {
   "cell_type": "code",
   "execution_count": null,
   "metadata": {
    "collapsed": true,
    "deletable": true,
    "editable": true
   },
   "outputs": [],
   "source": [
    "# We run the ABC\n",
    "minimum_epsilon = .05\n",
    "history = abc.run(minimum_epsilon)\n",
    "\n",
    "# Evaluate the model probabililties\n",
    "model_probabilities = history.get_model_probabilities(history.max_t)\n",
    "model_probabilities"
   ]
  },
  {
   "cell_type": "raw",
   "metadata": {
    "deletable": true,
    "editable": true,
    "raw_mimetype": "text/restructuredtext"
   },
   "source": [
    "And now, let's look at the final result:"
   ]
  },
  {
   "cell_type": "code",
   "execution_count": null,
   "metadata": {
    "collapsed": false,
    "deletable": true,
    "editable": true
   },
   "outputs": [],
   "source": [
    "model_probabilities.plot.bar();"
   ]
  },
  {
   "cell_type": "raw",
   "metadata": {
    "deletable": true,
    "editable": true,
    "raw_mimetype": "text/restructuredtext"
   },
   "source": [
    "So model 1 is the more probable one. Which is expected as it was centered at 1 and the observed data was also 1, whereas model 0 was centered af 0, which is farther away from the observed data. "
   ]
  }
 ],
 "metadata": {
  "celltoolbar": "Raw Cell Format",
  "kernelspec": {
   "display_name": "Python 3",
   "language": "python",
   "name": "python3"
  },
  "language_info": {
   "codemirror_mode": {
    "name": "ipython",
    "version": 3
   },
   "file_extension": ".py",
   "mimetype": "text/x-python",
   "name": "python",
   "nbconvert_exporter": "python",
   "pygments_lexer": "ipython3",
   "version": "3.6.0"
  }
 },
 "nbformat": 4,
 "nbformat_minor": 0
}
