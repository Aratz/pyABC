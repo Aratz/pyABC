{
 "cells": [
  {
   "cell_type": "markdown",
   "metadata": {},
   "source": [
    "Quickstart\n",
    "======"
   ]
  },
  {
   "cell_type": "raw",
   "metadata": {
    "raw_mimetype": "text/restructuredtext"
   },
   "source": [
    "Model selection\n",
    "---------------\n",
    "\n",
    "Here is a small example on how to do Bayesian model selection.\n",
    "There are more examples in the `examples section <../examples.rst>`_\n",
    "of the documentation, such as a `parameter inference example <parameter_inference.ipynb>`_\n",
    "with a single model only.\n",
    "\n",
    "\n",
    "This notebook can be downloaded here:\n",
    ":download:`Quickstart <quickstart.ipynb>`.\n",
    "\n",
    "\n",
    "The following classes from the pyABC package are used\n",
    "for this example:\n",
    "\n",
    "* :class:`ABCSMC <pyabc.smc.ABCSMC>`\n",
    "* :class:`RV <pyabc.random_variables.RV>`\n",
    "* :class:`Distribution <pyabc.random_variables.Distribution>`\n",
    "* :class:`PercentileDistanceFunction <pyabc.distance_functions.PercentileDistanceFunction>`"
   ]
  },
  {
   "cell_type": "raw",
   "metadata": {
    "raw_mimetype": "text/restructuredtext"
   },
   "source": [
    "Step by step explanation\n",
    "------------------------\n",
    "\n",
    "Defining a model\n",
    "~~~~~~~~~~~~~~~~\n",
    "\n",
    "To do model selection, we need first some models. A model, in the simplest case,\n",
    "is just a callable which takes a single ``dict`` as input\n",
    "and returns a single ``dict`` as output. The keys of the input dictionary are the parameters of the model, the output\n",
    "keys denote the summary statistics.\n",
    "Here, the ``dict`` is passed as ``parameters`` and has the parameter ``x``\n",
    "which denotes the mean of a Gaussian.\n",
    "It returns the observed summary statistics ``y``, which\n",
    "is just the sampled value."
   ]
  },
  {
   "cell_type": "code",
   "execution_count": 10,
   "metadata": {
    "collapsed": true
   },
   "outputs": [],
   "source": [
    "%matplotlib inline\n",
    "import os\n",
    "import tempfile\n",
    "\n",
    "import scipy.stats as st\n",
    "\n",
    "from pyabc import (ABCSMC, RV, Distribution,\n",
    "                   PercentileDistanceFunction)\n",
    "\n",
    "# Define a gaussian model\n",
    "sigma = .5\n",
    "\n",
    "\n",
    "def model(parameters):\n",
    "    # sample from a gaussian\n",
    "    y = st.norm(parameters.x, sigma).rvs()\n",
    "    # return the sample as dictionary\n",
    "    return {\"y\": y}"
   ]
  },
  {
   "cell_type": "raw",
   "metadata": {
    "raw_mimetype": "text/restructuredtext"
   },
   "source": [
    "For model selection we usually have more than one model.\n",
    "These are assembled in a list. We\n",
    "require a Bayesian prior over the models.\n",
    "The default is to have a uniform prior over the model classes.\n",
    "This concludes the model definition."
   ]
  },
  {
   "cell_type": "code",
   "execution_count": 11,
   "metadata": {
    "collapsed": true
   },
   "outputs": [],
   "source": [
    "# We define two models, but they are identical so far\n",
    "models = [model, model]\n",
    "\n",
    "\n",
    "# However, our models' priors are not the same.\n",
    "# Their mean differs.\n",
    "mu_x_1, mu_x_2 = 0, 1\n",
    "parameter_priors = [\n",
    "    Distribution(x=RV(\"norm\", mu_x_1, sigma)),\n",
    "    Distribution(x=RV(\"norm\", mu_x_2, sigma))\n",
    "]"
   ]
  },
  {
   "cell_type": "raw",
   "metadata": {
    "raw_mimetype": "text/restructuredtext"
   },
   "source": [
    "Configuring the ABCSMC run\n",
    "~~~~~~~~~~~~~~~~~~~~~~~~~~\n",
    "\n",
    "Having the models defined, we can plug together the ``ABCSMC`` class.\n",
    "We need a distance function,\n",
    "to measure the distance of obtained samples."
   ]
  },
  {
   "cell_type": "code",
   "execution_count": 12,
   "metadata": {
    "collapsed": true
   },
   "outputs": [],
   "source": [
    "# We plug all the ABC options together\n",
    "abc = ABCSMC(\n",
    "    models, parameter_priors,\n",
    "    PercentileDistanceFunction(measures_to_use=[\"y\"]))"
   ]
  },
  {
   "cell_type": "raw",
   "metadata": {
    "raw_mimetype": "text/restructuredtext"
   },
   "source": [
    "Setting the observed data\n",
    "~~~~~~~~~~~~~~~~~~~~~~~~~\n",
    "\n",
    "Actually measured data can now be passed to the ABCSMC.\n",
    "This is set via the ``new`` method, indicating that we start\n",
    "a new run as opposed to `resuming a stored run <resuming.ipynb>`_.\n",
    "Moreover we have to set the output database where the ABC-SMC run\n",
    "is logged."
   ]
  },
  {
   "cell_type": "code",
   "execution_count": 13,
   "metadata": {},
   "outputs": [
    {
     "name": "stderr",
     "output_type": "stream",
     "text": [
      "INFO:Epsilon:initial epsilon is 0.4434483880919305\n",
      "INFO:History:Start <ABCSMC(id=23, start_time=2018-04-08 18:15:39.750917, end_time=None)>\n"
     ]
    }
   ],
   "source": [
    "# y_observed is the important piece here: our actual observation.\n",
    "y_observed = 1\n",
    "# and we define where to store the results\n",
    "db_path = (\"sqlite:///\" +\n",
    "           os.path.join(tempfile.gettempdir(), \"test.db\"))\n",
    "abc_id = abc.new(db_path, {\"y\": y_observed})"
   ]
  },
  {
   "cell_type": "raw",
   "metadata": {
    "raw_mimetype": "text/restructuredtext"
   },
   "source": [
    "The ``new`` method returns an id, which is the id of the\n",
    "ABC-SMC run in the database.\n",
    "We're not usint this id for now.\n",
    "But it might be important when you load the stored data or want\n",
    "to continue an ABC-SMC run in the case of having more than one\n",
    "ABC-SMC run stored in a single database."
   ]
  },
  {
   "cell_type": "code",
   "execution_count": 14,
   "metadata": {},
   "outputs": [
    {
     "name": "stdout",
     "output_type": "stream",
     "text": [
      "ABC-SMC run ID: 23\n"
     ]
    }
   ],
   "source": [
    "print(\"ABC-SMC run ID:\", abc_id)"
   ]
  },
  {
   "cell_type": "raw",
   "metadata": {
    "raw_mimetype": "text/restructuredtext"
   },
   "source": [
    "Running the ABC\n",
    "~~~~~~~~~~~~~~~\n",
    "\n",
    "We run the ``ABCSMC`` specifying the epsilon value at which to terminate.\n",
    "The default epsilon strategy is the :class:`pyabc.epsilon.MedianEpsilon`.\n",
    "Whatever is reached first, the epsilon or the maximum number allowed populations,\n",
    "terminates the ABC run. The method returns a :class:`History <pyabc.storage.History>` object. which\n",
    "can, for example, be queried for the posterior probabilities."
   ]
  },
  {
   "cell_type": "code",
   "execution_count": 15,
   "metadata": {},
   "outputs": [
    {
     "name": "stderr",
     "output_type": "stream",
     "text": [
      "INFO:ABC:t:0 eps:0.4434483880919305\n",
      "INFO:ABC:t:1 eps:0.24798740312679024\n",
      "INFO:History:Done <ABCSMC(id=23, start_time=2018-04-08 18:15:39.750917, end_time=2018-04-08 18:15:43.032513)>\n"
     ]
    }
   ],
   "source": [
    "# We run the ABC until either criterion is met\n",
    "history = abc.run(minimum_epsilon=0.05, max_nr_populations=2)"
   ]
  },
  {
   "cell_type": "raw",
   "metadata": {
    "raw_mimetype": "text/restructuredtext"
   },
   "source": [
    "Note that the history object is also always accessible from the abcsmc object:"
   ]
  },
  {
   "cell_type": "code",
   "execution_count": 16,
   "metadata": {},
   "outputs": [
    {
     "data": {
      "text/plain": [
       "True"
      ]
     },
     "execution_count": 16,
     "metadata": {},
     "output_type": "execute_result"
    }
   ],
   "source": [
    "history is abc.history"
   ]
  },
  {
   "cell_type": "raw",
   "metadata": {
    "raw_mimetype": "text/restructuredtext"
   },
   "source": [
    "The :class:`History <pyabc.storage.History>` object can, for example,\n",
    "be queried for the posterior probabilities in the populations."
   ]
  },
  {
   "cell_type": "code",
   "execution_count": 17,
   "metadata": {},
   "outputs": [
    {
     "data": {
      "text/html": [
       "<div>\n",
       "<style>\n",
       "    .dataframe thead tr:only-child th {\n",
       "        text-align: right;\n",
       "    }\n",
       "\n",
       "    .dataframe thead th {\n",
       "        text-align: left;\n",
       "    }\n",
       "\n",
       "    .dataframe tbody tr th {\n",
       "        vertical-align: top;\n",
       "    }\n",
       "</style>\n",
       "<table border=\"1\" class=\"dataframe\">\n",
       "  <thead>\n",
       "    <tr style=\"text-align: right;\">\n",
       "      <th>m</th>\n",
       "      <th>0</th>\n",
       "      <th>1</th>\n",
       "    </tr>\n",
       "    <tr>\n",
       "      <th>t</th>\n",
       "      <th></th>\n",
       "      <th></th>\n",
       "    </tr>\n",
       "  </thead>\n",
       "  <tbody>\n",
       "    <tr>\n",
       "      <th>0</th>\n",
       "      <td>0.340000</td>\n",
       "      <td>0.660000</td>\n",
       "    </tr>\n",
       "    <tr>\n",
       "      <th>1</th>\n",
       "      <td>0.344491</td>\n",
       "      <td>0.655509</td>\n",
       "    </tr>\n",
       "  </tbody>\n",
       "</table>\n",
       "</div>"
      ],
      "text/plain": [
       "m         0         1\n",
       "t                    \n",
       "0  0.340000  0.660000\n",
       "1  0.344491  0.655509"
      ]
     },
     "execution_count": 17,
     "metadata": {},
     "output_type": "execute_result"
    }
   ],
   "source": [
    "# Evaluate the model probabililties\n",
    "model_probabilities = history.get_model_probabilities()\n",
    "model_probabilities"
   ]
  },
  {
   "cell_type": "raw",
   "metadata": {
    "raw_mimetype": "text/restructuredtext"
   },
   "source": [
    "And now, let's visualize the results:"
   ]
  },
  {
   "cell_type": "code",
   "execution_count": 18,
   "metadata": {},
   "outputs": [
    {
     "data": {
      "image/png": "[encoded data removed]",
      "text/plain": [
       "<matplotlib.figure.Figure at 0x7fa3d0108fd0>"
      ]
     },
     "metadata": {},
     "output_type": "display_data"
    }
   ],
   "source": [
    "model_probabilities.plot.bar();"
   ]
  },
  {
   "cell_type": "raw",
   "metadata": {},
   "source": [
    "So model 1 is the more probable one. Which is expected as it was centered at 1 and the observed data was also 1, whereas model 0 was centered at 0, which is farther away from the observed data. "
   ]
  }
 ],
 "metadata": {
  "celltoolbar": "Raw Cell Format",
  "kernelspec": {
   "display_name": "Python 3",
   "language": "python",
   "name": "python3"
  },
  "language_info": {
   "codemirror_mode": {
    "name": "ipython",
    "version": 3
   },
   "file_extension": ".py",
   "mimetype": "text/x-python",
   "name": "python",
   "nbconvert_exporter": "python",
   "pygments_lexer": "ipython3",
   "version": "3.6.3"
  }
 },
 "nbformat": 4,
 "nbformat_minor": 1
}
