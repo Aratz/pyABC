{
 "cells": [
  {
   "cell_type": "raw",
   "metadata": {
    "raw_mimetype": "text/restructuredtext"
   },
   "source": [
    "Resuming stored ABC runs\n",
    "========================\n",
    "\n",
    "In this examle, it is illustrated how stored ABC runs can be\n",
    "loaded and continued later on.\n",
    "This might make sense if you decide later on to run a couple more\n",
    "populations for increased accuracy.\n",
    "The models used in this example\n",
    "are similar to the ones from the\n",
    "`parameter inference tutorial <parameter_inference.ipynb>`_.\n",
    "\n",
    "\n",
    "In this example, we're going to use the following classes:\n",
    "\n",
    "* :class:`ABCSMC <pyabc.smc.ABCSMC>`,\n",
    "  our entry point to parameter inference,\n",
    "* :class:`RV <pyabc.random_variables.RV>`,\n",
    "  to define the prior over a single parameter,\n",
    "* :class:`Distribution <pyabc.random_variables.Distribution>`,\n",
    "  to define the prior over a possibly higher dimensional parameter space,\n",
    "  \n",
    "Let's start with the imports."
   ]
  },
  {
   "cell_type": "code",
   "execution_count": null,
   "metadata": {
    "collapsed": true
   },
   "outputs": [],
   "source": [
    "from pyabc import ABCSMC, Distribution, RV\n",
    "import scipy as sp\n",
    "from tempfile import gettempdir\n",
    "import os"
   ]
  },
  {
   "cell_type": "raw",
   "metadata": {
    "raw_mimetype": "text/restructuredtext"
   },
   "source": [
    "As usually, we start with the definition of the model,\n",
    "the prior and the distance function."
   ]
  },
  {
   "cell_type": "code",
   "execution_count": null,
   "metadata": {
    "collapsed": true
   },
   "outputs": [],
   "source": [
    "def model(parameter):\n",
    "    return {\"data\": parameter[\"mean\"] + sp.randn()}\n",
    "\n",
    "prior = Distribution(mean=RV(\"uniform\", 0, 5))\n",
    "\n",
    "def distance(x, y):\n",
    "    return abs(x[\"data\"] - y[\"data\"])\n",
    "\n",
    "db = \"sqlite:///\" + os.path.join(gettempdir(), \"test.db\")"
   ]
  },
  {
   "cell_type": "raw",
   "metadata": {
    "raw_mimetype": "text/restructuredtext"
   },
   "source": [
    "We next make a new ABC-SMC run and also print the id of this run.\n",
    "We'll use the id later on to resume the run."
   ]
  },
  {
   "cell_type": "code",
   "execution_count": null,
   "metadata": {
    "collapsed": true
   },
   "outputs": [],
   "source": [
    "abc = ABCSMC(model, prior, distance)\n",
    "run_id = abc.new(db, {\"data\": 2.5})\n",
    "print(\"Run ID:\", run_id)"
   ]
  },
  {
   "cell_type": "raw",
   "metadata": {
    "raw_mimetype": "text/restructuredtext"
   },
   "source": [
    "We then run up to 3 generations, or until the acceptance threshold 0.1\n",
    "is reached -- whatever happens first."
   ]
  },
  {
   "cell_type": "code",
   "execution_count": null,
   "metadata": {
    "collapsed": true
   },
   "outputs": [],
   "source": [
    "history = abc.run(minimum_epsilon=.1, max_nr_populations=3)"
   ]
  },
  {
   "cell_type": "raw",
   "metadata": {
    "raw_mimetype": "text/restructuredtext"
   },
   "source": [
    "Let's verify that we have 3 populations."
   ]
  },
  {
   "cell_type": "code",
   "execution_count": null,
   "metadata": {
    "collapsed": true
   },
   "outputs": [],
   "source": [
    "history.n_populations"
   ]
  },
  {
   "cell_type": "raw",
   "metadata": {},
   "source": [
    "We now create a completely new ABCSMC object.\n",
    "We pass the same model, prior and distance from before."
   ]
  },
  {
   "cell_type": "code",
   "execution_count": null,
   "metadata": {
    "collapsed": true
   },
   "outputs": [],
   "source": [
    "abc_continued = ABCSMC(model, prior, distance)"
   ]
  },
  {
   "cell_type": "raw",
   "metadata": {
    "raw_mimetype": "text/restructuredtext"
   },
   "source": [
    ".. note::\n",
    "\n",
    "   You could actually pass different models,\n",
    "   priors and distance functions here. This might make sense\n",
    "   if, for example, in the meantime you came up with a more \n",
    "   efficient model implementation or distance function.\n",
    "   \n",
    "   For the experts: under certain circumstances it can even\n",
    "   be mathematically correct to change the prior after a couple\n",
    "   of populations."
   ]
  },
  {
   "cell_type": "raw",
   "metadata": {
    "raw_mimetype": "text/restructuredtext"
   },
   "source": [
    "To resume a run, we use the ``load`` method.\n",
    "This loads the necessary data.\n",
    "We pass to this method the id of the run we want to continue."
   ]
  },
  {
   "cell_type": "code",
   "execution_count": null,
   "metadata": {
    "collapsed": true
   },
   "outputs": [],
   "source": [
    "abc_continued.load(db, run_id)"
   ]
  },
  {
   "cell_type": "code",
   "execution_count": null,
   "metadata": {
    "collapsed": true
   },
   "outputs": [],
   "source": [
    "abc_continued.run(minimum_epsilon=.1, max_nr_populations=1)"
   ]
  },
  {
   "cell_type": "raw",
   "metadata": {
    "raw_mimetype": "text/restructuredtext"
   },
   "source": [
    "Let's check the number of populations of the resumed run.\n",
    "It should be 4, as we did 3 populations before and added another one."
   ]
  },
  {
   "cell_type": "code",
   "execution_count": null,
   "metadata": {
    "collapsed": true
   },
   "outputs": [],
   "source": [
    "abc_continued.history.n_populations"
   ]
  },
  {
   "cell_type": "raw",
   "metadata": {
    "raw_mimetype": "text/restructuredtext"
   },
   "source": [
    "That's it. This was a basic tutorial on how to continue\n",
    "stored ABC-SMC runs."
   ]
  }
 ],
 "metadata": {
  "celltoolbar": "Raw Cell Format",
  "kernelspec": {
   "display_name": "Python 3",
   "language": "python",
   "name": "python3"
  },
  "language_info": {
   "codemirror_mode": {
    "name": "ipython",
    "version": 3
   },
   "file_extension": ".py",
   "mimetype": "text/x-python",
   "name": "python",
   "nbconvert_exporter": "python",
   "pygments_lexer": "ipython3",
   "version": "3.6.2"
  }
 },
 "nbformat": 4,
 "nbformat_minor": 2
}
