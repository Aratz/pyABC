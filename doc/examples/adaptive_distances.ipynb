{
 "cells": [
  {
   "cell_type": "markdown",
   "metadata": {},
   "source": [
    "Adaptive Distances\n",
    "=================="
   ]
  },
  {
   "cell_type": "markdown",
   "metadata": {},
   "source": [
    "In this example we show how to use the adaptive distances feature of pyabc. Adaptive distances means that the distance function is not fixed or pre-defined, but evolves over time, depending on the observed summary statistics. This can be useful if different summary statistics are on different scales, but it is not immediately clear how to weight them. For this case, in adaptive distances weights can be adjusted in each iteration so as to balance the impact of all summary statistics on the computed distance. "
   ]
  },
  {
   "cell_type": "code",
   "execution_count": null,
   "metadata": {},
   "outputs": [],
   "source": []
  },
  {
   "cell_type": "markdown",
   "metadata": {},
   "source": [
    "Currently, adaptively weighted p-norm distances (e.g. Euclidean) are implemented, but it is possible to define arbitrary adaptive distances via the DistanceFunction.update() method."
   ]
  },
  {
   "cell_type": "markdown",
   "metadata": {},
   "source": [
    "To illustrate this feaure, we consider a simple Gaussian model."
   ]
  },
  {
   "cell_type": "code",
   "execution_count": 1,
   "metadata": {},
   "outputs": [],
   "source": [
    "import scipy\n",
    "import tempfile\n",
    "import os\n",
    "import matplotlib.pyplot as pyplot\n",
    "import pyabc.visualization\n",
    "\n",
    "\n",
    "def model(p):\n",
    "    return {'ss1': p['theta'] + 1 + 0.1*scipy.randn(),\n",
    "            'ss2': 2 + scipy.randn()}"
   ]
  }
 ],
 "metadata": {
  "kernelspec": {
   "display_name": "Python 2",
   "language": "python",
   "name": "python2"
  },
  "language_info": {
   "codemirror_mode": {
    "name": "ipython",
    "version": 2
   },
   "file_extension": ".py",
   "mimetype": "text/x-python",
   "name": "python",
   "nbconvert_exporter": "python",
   "pygments_lexer": "ipython2",
   "version": "2.7.6"
  }
 },
 "nbformat": 4,
 "nbformat_minor": 0
}
