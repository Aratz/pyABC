{
 "cells": [
  {
   "cell_type": "markdown",
   "metadata": {},
   "source": [
    "# Using R with pyABC"
   ]
  },
  {
   "cell_type": "raw",
   "metadata": {
    "raw_mimetype": "text/restructuredtext"
   },
   "source": [
    "This example illustrates how to use models, summary statistics and\n",
    "distance functions defined in R. We're assuming you're already\n",
    "familiar with the basic workings of pyABC. If not, consult the\n",
    "other tutorial examples.\n",
    "\n",
    "Download this notebook :download:`here <using_R.ipynb>`."
   ]
  },
  {
   "cell_type": "raw",
   "metadata": {
    "raw_mimetype": "text/restructuredtext"
   },
   "source": [
    "In this example, we're introducing the new class\n",
    ":class:`R <pyabc.external.R>` which is our interface with R.\n",
    "We use this class to to load an external R script."
   ]
  },
  {
   "cell_type": "code",
   "execution_count": null,
   "metadata": {},
   "outputs": [],
   "source": [
    "%matplotlib inline\n",
    "from pyabc.external import R\n",
    "\n",
    "r = R(\"myRModel.R\")"
   ]
  },
  {
   "cell_type": "raw",
   "metadata": {
    "raw_mimetype": "text/restructuredtext"
   },
   "source": [
    ".. note::\n",
    "\n",
    "   ``R(\"myRModel.R\")`` does, amongst other things the equivalent\n",
    "   to R's ``source(\"myRModel.R\")``. That is, the entire script is\n",
    "   executed with all the possible side effects this might have.\n",
    "   \n",
    "   \n",
    "You can download the file here: :download:`myRModel.R <myRModel.R>`.\n",
    "But now, let's have a look at it."
   ]
  },
  {
   "cell_type": "code",
   "execution_count": null,
   "metadata": {},
   "outputs": [],
   "source": [
    "r.display_source_ipython()"
   ]
  },
  {
   "cell_type": "raw",
   "metadata": {
    "raw_mimetype": "text/restructuredtext"
   },
   "source": [
    "We see that four relevant objects are defined in the file.\n",
    "\n",
    "* myModel\n",
    "* mySummaryStatistics (optional)\n",
    "* myDistance\n",
    "* mySumStatData\n",
    "\n",
    "The names of these do not matter. The ``mySummaryStatistics`` is actually optional and can be omitted\n",
    "in case the model calculates the summary statistics directly. We load the defined functions using the ``r`` object:"
   ]
  },
  {
   "cell_type": "code",
   "execution_count": null,
   "metadata": {
    "collapsed": true
   },
   "outputs": [],
   "source": [
    "model = r.model(\"myModel\")\n",
    "distance = r.distance(\"myDistance\")\n",
    "sum_stat = r.summary_statistics(\"mySummaryStatistics\")"
   ]
  },
  {
   "cell_type": "raw",
   "metadata": {
    "raw_mimetype": "text/restructuredtext"
   },
   "source": [
    "From there on, we can use them (almost) as if they were ordinary Python functions."
   ]
  },
  {
   "cell_type": "code",
   "execution_count": null,
   "metadata": {
    "collapsed": true
   },
   "outputs": [],
   "source": [
    "from pyabc import Distribution, RV, ABCSMC\n",
    "\n",
    "prior = Distribution(meanX=RV(\"uniform\", 0, 10),\n",
    "                     meanY=RV(\"uniform\", 0, 10))\n",
    "abc = ABCSMC(model, prior, distance,\n",
    "             summary_statistics=sum_stat)"
   ]
  },
  {
   "cell_type": "raw",
   "metadata": {
    "raw_mimetype": "text/restructuredtext"
   },
   "source": [
    "We also load the observation with ``r.observation`` and pass it to a new ABC run."
   ]
  },
  {
   "cell_type": "code",
   "execution_count": null,
   "metadata": {},
   "outputs": [],
   "source": [
    "import os\n",
    "from tempfile import gettempdir\n",
    "\n",
    "db = \"sqlite:///\" + os.path.join(gettempdir(), \"test.db\")\n",
    "abc.new(db, r.observation(\"mySumStatData\"))"
   ]
  },
  {
   "cell_type": "raw",
   "metadata": {
    "raw_mimetype": "text/restructuredtext"
   },
   "source": [
    "We start a run which terminates as soon as an acceptance threshold of 0.9 or less is reached\n",
    "or the maximum number of 4 populations is sampled."
   ]
  },
  {
   "cell_type": "code",
   "execution_count": null,
   "metadata": {},
   "outputs": [],
   "source": [
    "history = abc.run(minimum_epsilon=0.9, max_nr_populations=4)"
   ]
  },
  {
   "cell_type": "raw",
   "metadata": {
    "raw_mimetype": "text/restructuredtext"
   },
   "source": [
    "Lastly, we plot the results and observe how the generations contract slowly around the oserved value.\n",
    "(Note, that the contraction around the observed value is a particular property of the chosen example and not always the case.)"
   ]
  },
  {
   "cell_type": "code",
   "execution_count": null,
   "metadata": {},
   "outputs": [],
   "source": [
    "from pyabc.visualization import plot_hist_2d\n",
    "\n",
    "for t in range(history.n_populations):\n",
    "    df, w = abc.history.get_distribution(0, t)\n",
    "    ax = plot_hist_2d(df, w, \"meanX\", \"meanY\",\n",
    "                      xmin=0, xmax=10,\n",
    "                      ymin=0, ymax=10,\n",
    "                      numx=100, numy=100)\n",
    "    ax.scatter([4], [8],\n",
    "               edgecolor=\"black\",\n",
    "               facecolor=\"white\",\n",
    "               label=\"Observation\");\n",
    "    ax.legend();\n",
    "    ax.set_title(\"PDF t={}\".format(t))"
   ]
  }
 ],
 "metadata": {
  "celltoolbar": "Raw Cell Format",
  "kernelspec": {
   "display_name": "Python 3",
   "language": "python",
   "name": "python3"
  },
  "language_info": {
   "codemirror_mode": {
    "name": "ipython",
    "version": 3
   },
   "file_extension": ".py",
   "mimetype": "text/x-python",
   "name": "python",
   "nbconvert_exporter": "python",
   "pygments_lexer": "ipython3",
   "version": "3.6.2"
  }
 },
 "nbformat": 4,
 "nbformat_minor": 2
}
