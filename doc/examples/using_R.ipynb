{
 "cells": [
  {
   "cell_type": "markdown",
   "metadata": {},
   "source": [
    "# Using R with pyABC"
   ]
  },
  {
   "cell_type": "raw",
   "metadata": {
    "raw_mimetype": "text/restructuredtext"
   },
   "source": [
    "This example illustrates how to use models, summary statistics and\n",
    "distance functions defined in R. We're assuming you're already\n",
    "familiar with the basic workings of pyABC. If not, consult the\n",
    "other tutorial examples."
   ]
  },
  {
   "cell_type": "code",
   "execution_count": null,
   "metadata": {
    "collapsed": true
   },
   "outputs": [],
   "source": [
    "%matplotlib inline"
   ]
  },
  {
   "cell_type": "raw",
   "metadata": {
    "raw_mimetype": "text/restructuredtext"
   },
   "source": [
    "In this example, we're introducing the new class\n",
    ":class:`R <pyabc.external.R>` which is our interface with R.\n",
    "We use this class to to load an external R script.\n",
    "\n",
    ".. note::\n",
    "\n",
    "   ``R(\"myRModel.R\")`` does, amongst other things the equivalent\n",
    "   to R's ``source(\"myRModel.R\")``. That is, the entire script is\n",
    "   executed with all the possible side effects this might have."
   ]
  },
  {
   "cell_type": "code",
   "execution_count": null,
   "metadata": {},
   "outputs": [],
   "source": [
    "from pyabc.external import R\n",
    "\n",
    "r = R(\"myRModel.R\")\n",
    "r.display_source_ipython()"
   ]
  },
  {
   "cell_type": "code",
   "execution_count": null,
   "metadata": {},
   "outputs": [],
   "source": [
    "model = r.model(\"myModel\")\n",
    "distance = r.distance(\"myDistance\")\n",
    "sum_stat = r.summary_statistics(\"mySummaryStatistics\")"
   ]
  },
  {
   "cell_type": "code",
   "execution_count": null,
   "metadata": {
    "collapsed": true
   },
   "outputs": [],
   "source": [
    "from pyabc import Distribution, RV, ABCSMC\n",
    "\n",
    "prior = Distribution(meanX=RV(\"uniform\", 0, 10),\n",
    "                     meanY=RV(\"uniform\", 0, 10))\n",
    "abc = ABCSMC(model, prior, distance,\n",
    "             summary_statistics=sum_stat)"
   ]
  },
  {
   "cell_type": "code",
   "execution_count": null,
   "metadata": {},
   "outputs": [],
   "source": [
    "import os\n",
    "from tempfile import gettempdir\n",
    "\n",
    "db = \"sqlite:///\" + os.path.join(gettempdir(), \"test.db\")\n",
    "abc.new(db, r.observation(\"myObservation\"))"
   ]
  },
  {
   "cell_type": "code",
   "execution_count": null,
   "metadata": {},
   "outputs": [],
   "source": [
    "history = abc.run(minimum_epsilon=0.3, max_nr_populations=8)"
   ]
  },
  {
   "cell_type": "code",
   "execution_count": null,
   "metadata": {},
   "outputs": [],
   "source": [
    "from pyabc.visualization import plot_hist_2d\n",
    "\n",
    "df, w = abc.history.get_distribution(0)\n",
    "ax = plot_hist_2d(df, w, \"meanX\", \"meanY\",\n",
    "                  xmin=0, xmax=10,\n",
    "                  ymin=0, ymax=10,\n",
    "                  numx=200, numy=200)\n",
    "ax.scatter([4], [8], edgecolor=\"black\", facecolor=\"white\", label=\"Ground Truth\");\n",
    "ax.legend();"
   ]
  }
 ],
 "metadata": {
  "celltoolbar": "Raw Cell Format",
  "kernelspec": {
   "display_name": "Python 3",
   "language": "python",
   "name": "python3"
  },
  "language_info": {
   "codemirror_mode": {
    "name": "ipython",
    "version": 3
   },
   "file_extension": ".py",
   "mimetype": "text/x-python",
   "name": "python",
   "nbconvert_exporter": "python",
   "pygments_lexer": "ipython3",
   "version": "3.6.2"
  }
 },
 "nbformat": 4,
 "nbformat_minor": 2
}
