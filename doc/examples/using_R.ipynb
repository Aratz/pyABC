{
 "cells": [
  {
   "cell_type": "markdown",
   "metadata": {},
   "source": [
    "# Using R with pyABC"
   ]
  },
  {
   "cell_type": "raw",
   "metadata": {
    "raw_mimetype": "text/restructuredtext"
   },
   "source": [
    "This example illustrates how to use models, summary statistics and\n",
    "distance functions defined in R. We're assuming you're already\n",
    "familiar with the basic workings of pyABC. If not, consult the\n",
    "other tutorial examples."
   ]
  },
  {
   "cell_type": "code",
   "execution_count": 1,
   "metadata": {
    "collapsed": true
   },
   "outputs": [],
   "source": [
    "%matplotlib inline"
   ]
  },
  {
   "cell_type": "raw",
   "metadata": {
    "raw_mimetype": "text/restructuredtext"
   },
   "source": [
    "In this example, we're introducing the new class\n",
    ":class:`R <pyabc.external.R>` which is our interface with R.\n",
    "We use this class to to load an external R script.\n",
    "\n",
    ".. note::\n",
    "\n",
    "   ``R(\"myRModel.R\")`` does, amongst other thins the equivalent\n",
    "   to R's source(\"myRModel.R\"). That is, the entire script is\n",
    "   executed with all the possible side effects this might have."
   ]
  },
  {
   "cell_type": "code",
   "execution_count": 2,
   "metadata": {},
   "outputs": [
    {
     "data": {
      "text/html": [
       "<style type=\"text/css\">.highlight .hll { background-color: #ffffcc }\n",
       ".highlight  { background: #f8f8f8; }\n",
       ".highlight .c { color: #408080; font-style: italic } /* Comment */\n",
       ".highlight .err { border: 1px solid #FF0000 } /* Error */\n",
       ".highlight .k { color: #008000; font-weight: bold } /* Keyword */\n",
       ".highlight .o { color: #666666 } /* Operator */\n",
       ".highlight .ch { color: #408080; font-style: italic } /* Comment.Hashbang */\n",
       ".highlight .cm { color: #408080; font-style: italic } /* Comment.Multiline */\n",
       ".highlight .cp { color: #BC7A00 } /* Comment.Preproc */\n",
       ".highlight .cpf { color: #408080; font-style: italic } /* Comment.PreprocFile */\n",
       ".highlight .c1 { color: #408080; font-style: italic } /* Comment.Single */\n",
       ".highlight .cs { color: #408080; font-style: italic } /* Comment.Special */\n",
       ".highlight .gd { color: #A00000 } /* Generic.Deleted */\n",
       ".highlight .ge { font-style: italic } /* Generic.Emph */\n",
       ".highlight .gr { color: #FF0000 } /* Generic.Error */\n",
       ".highlight .gh { color: #000080; font-weight: bold } /* Generic.Heading */\n",
       ".highlight .gi { color: #00A000 } /* Generic.Inserted */\n",
       ".highlight .go { color: #888888 } /* Generic.Output */\n",
       ".highlight .gp { color: #000080; font-weight: bold } /* Generic.Prompt */\n",
       ".highlight .gs { font-weight: bold } /* Generic.Strong */\n",
       ".highlight .gu { color: #800080; font-weight: bold } /* Generic.Subheading */\n",
       ".highlight .gt { color: #0044DD } /* Generic.Traceback */\n",
       ".highlight .kc { color: #008000; font-weight: bold } /* Keyword.Constant */\n",
       ".highlight .kd { color: #008000; font-weight: bold } /* Keyword.Declaration */\n",
       ".highlight .kn { color: #008000; font-weight: bold } /* Keyword.Namespace */\n",
       ".highlight .kp { color: #008000 } /* Keyword.Pseudo */\n",
       ".highlight .kr { color: #008000; font-weight: bold } /* Keyword.Reserved */\n",
       ".highlight .kt { color: #B00040 } /* Keyword.Type */\n",
       ".highlight .m { color: #666666 } /* Literal.Number */\n",
       ".highlight .s { color: #BA2121 } /* Literal.String */\n",
       ".highlight .na { color: #7D9029 } /* Name.Attribute */\n",
       ".highlight .nb { color: #008000 } /* Name.Builtin */\n",
       ".highlight .nc { color: #0000FF; font-weight: bold } /* Name.Class */\n",
       ".highlight .no { color: #880000 } /* Name.Constant */\n",
       ".highlight .nd { color: #AA22FF } /* Name.Decorator */\n",
       ".highlight .ni { color: #999999; font-weight: bold } /* Name.Entity */\n",
       ".highlight .ne { color: #D2413A; font-weight: bold } /* Name.Exception */\n",
       ".highlight .nf { color: #0000FF } /* Name.Function */\n",
       ".highlight .nl { color: #A0A000 } /* Name.Label */\n",
       ".highlight .nn { color: #0000FF; font-weight: bold } /* Name.Namespace */\n",
       ".highlight .nt { color: #008000; font-weight: bold } /* Name.Tag */\n",
       ".highlight .nv { color: #19177C } /* Name.Variable */\n",
       ".highlight .ow { color: #AA22FF; font-weight: bold } /* Operator.Word */\n",
       ".highlight .w { color: #bbbbbb } /* Text.Whitespace */\n",
       ".highlight .mb { color: #666666 } /* Literal.Number.Bin */\n",
       ".highlight .mf { color: #666666 } /* Literal.Number.Float */\n",
       ".highlight .mh { color: #666666 } /* Literal.Number.Hex */\n",
       ".highlight .mi { color: #666666 } /* Literal.Number.Integer */\n",
       ".highlight .mo { color: #666666 } /* Literal.Number.Oct */\n",
       ".highlight .sa { color: #BA2121 } /* Literal.String.Affix */\n",
       ".highlight .sb { color: #BA2121 } /* Literal.String.Backtick */\n",
       ".highlight .sc { color: #BA2121 } /* Literal.String.Char */\n",
       ".highlight .dl { color: #BA2121 } /* Literal.String.Delimiter */\n",
       ".highlight .sd { color: #BA2121; font-style: italic } /* Literal.String.Doc */\n",
       ".highlight .s2 { color: #BA2121 } /* Literal.String.Double */\n",
       ".highlight .se { color: #BB6622; font-weight: bold } /* Literal.String.Escape */\n",
       ".highlight .sh { color: #BA2121 } /* Literal.String.Heredoc */\n",
       ".highlight .si { color: #BB6688; font-weight: bold } /* Literal.String.Interpol */\n",
       ".highlight .sx { color: #008000 } /* Literal.String.Other */\n",
       ".highlight .sr { color: #BB6688 } /* Literal.String.Regex */\n",
       ".highlight .s1 { color: #BA2121 } /* Literal.String.Single */\n",
       ".highlight .ss { color: #19177C } /* Literal.String.Symbol */\n",
       ".highlight .bp { color: #008000 } /* Name.Builtin.Pseudo */\n",
       ".highlight .fm { color: #0000FF } /* Name.Function.Magic */\n",
       ".highlight .vc { color: #19177C } /* Name.Variable.Class */\n",
       ".highlight .vg { color: #19177C } /* Name.Variable.Global */\n",
       ".highlight .vi { color: #19177C } /* Name.Variable.Instance */\n",
       ".highlight .vm { color: #19177C } /* Name.Variable.Magic */\n",
       ".highlight .il { color: #666666 } /* Literal.Number.Integer.Long */</style><div class=\"highlight\"><pre><span></span><span class=\"c1\"># Blue print for pyABC parameter inference runs.</span>\n",
       "<span class=\"c1\"># A proposal of how to structure an R file for usage with pyABC</span>\n",
       "\n",
       "\n",
       "<span class=\"c1\">#&#39; The model to be simulated.</span>\n",
       "<span class=\"c1\">#&#39; In this example, it is just a multivariate normal</span>\n",
       "<span class=\"c1\">#&#39; distrubution.  The number of parameters depends on the</span>\n",
       "<span class=\"c1\">#&#39; model and can be arbitrary. However, the parameters</span>\n",
       "<span class=\"c1\">#&#39; should be real numbers.</span>\n",
       "<span class=\"c1\">#&#39; The return type is arbitrary as well.</span>\n",
       "myModel <span class=\"o\">&lt;-</span> <span class=\"kr\">function</span><span class=\"p\">(</span>pars<span class=\"p\">){</span>\n",
       "  x <span class=\"o\">&lt;-</span> rnorm<span class=\"p\">(</span><span class=\"m\">1</span><span class=\"p\">)</span> <span class=\"o\">+</span> pars<span class=\"o\">$</span>meanX\n",
       "  y <span class=\"o\">&lt;-</span> rnorm<span class=\"p\">(</span><span class=\"m\">1</span><span class=\"p\">)</span> <span class=\"o\">+</span> pars<span class=\"o\">$</span>meanY\n",
       "  <span class=\"kt\">c</span><span class=\"p\">(</span>x<span class=\"p\">,</span>y<span class=\"p\">)</span>  <span class=\"c1\"># It is not important that it is a vector.</span>\n",
       "<span class=\"p\">}</span>\n",
       "\n",
       "<span class=\"c1\">#&#39; Calculates summary statistics from whatever the model returns</span>\n",
       "<span class=\"c1\">#&#39; </span>\n",
       "<span class=\"c1\">#&#39; It is important that the summary statistics have names</span>\n",
       "<span class=\"c1\">#&#39; to store them correctly in pyABC&#39;s database</span>\n",
       "<span class=\"c1\">#&#39; In many cases, the summary statistics function might just</span>\n",
       "<span class=\"c1\">#&#39; pass through the result of the model function if the</span>\n",
       "<span class=\"c1\">#&#39; summary statistics calculation is already</span>\n",
       "<span class=\"c1\">#&#39; done there. Splitting summary statistics and the model</span>\n",
       "<span class=\"c1\">#&#39; makes most sense in a mdel selection scenario</span>\n",
       "<span class=\"c1\">#&#39; </span>\n",
       "<span class=\"c1\">#&#39; @param modelResult The data simulated by the model</span>\n",
       "<span class=\"c1\">#&#39; @return Named list of summary statistics.</span>\n",
       "mySummaryStatistics <span class=\"o\">&lt;-</span> <span class=\"kr\">function</span><span class=\"p\">(</span>modelResult<span class=\"p\">){</span>\n",
       "  <span class=\"kt\">list</span><span class=\"p\">(</span>x<span class=\"o\">=</span>modelResult<span class=\"p\">[</span><span class=\"m\">1</span><span class=\"p\">],</span>\n",
       "       y<span class=\"o\">=</span>modelResult<span class=\"p\">[</span><span class=\"m\">2</span><span class=\"p\">],</span>\n",
       "       arbitraryKey<span class=\"o\">=</span><span class=\"s\">&quot;Some random text&quot;</span><span class=\"p\">)</span>\n",
       "<span class=\"p\">}</span>\n",
       "\n",
       "<span class=\"c1\">#&#39; Calculate distance between summary statistics</span>\n",
       "<span class=\"c1\">#&#39; </span>\n",
       "<span class=\"c1\">#&#39; @param sumStatSample The summary statistics of the sample</span>\n",
       "<span class=\"c1\">#&#39; proposed py pyABC</span>\n",
       "<span class=\"c1\">#&#39; @param sumStatData The summary statistics of the observed</span>\n",
       "<span class=\"c1\">#&#39;        data for which we want to calculate the posterior.</span>\n",
       "<span class=\"c1\">#&#39; @return A single float</span>\n",
       "myDistance <span class=\"o\">&lt;-</span> <span class=\"kr\">function</span><span class=\"p\">(</span>sumStatSample<span class=\"p\">,</span> sumStatData<span class=\"p\">){</span>\n",
       "  <span class=\"kp\">sqrt</span><span class=\"p\">((</span>sumStatSample<span class=\"o\">$</span>x <span class=\"o\">-</span> sumStatData<span class=\"o\">$</span>x<span class=\"p\">)</span><span class=\"o\">^</span><span class=\"m\">2</span>\n",
       "       <span class=\"o\">+</span> <span class=\"kp\">abs</span><span class=\"p\">(</span>sumStatSample<span class=\"o\">$</span>y <span class=\"o\">-</span> sumStatData<span class=\"o\">$</span>y<span class=\"p\">)</span><span class=\"o\">^</span><span class=\"m\">2</span><span class=\"p\">)</span>\n",
       "<span class=\"p\">}</span>\n",
       "\n",
       "\n",
       "<span class=\"c1\"># We store the observed data as named list</span>\n",
       "<span class=\"c1\"># in a variable.</span>\n",
       "observation <span class=\"o\">&lt;-</span> <span class=\"kt\">list</span><span class=\"p\">(</span>x<span class=\"o\">=</span><span class=\"m\">4</span><span class=\"p\">,</span> y<span class=\"o\">=</span><span class=\"m\">8</span><span class=\"p\">)</span>\n",
       "\n",
       "<span class=\"c1\"># The functions model, summaryStatistics and distance</span>\n",
       "<span class=\"c1\"># have to be constructed in</span>\n",
       "<span class=\"c1\"># such a way that the following always makes sense.</span>\n",
       "<span class=\"c1\"># Note: The model function can in principle already return</span>\n",
       "<span class=\"c1\"># a named list and the summary statistics function</span>\n",
       "<span class=\"c1\"># can just pass it through. A separate summary statistics</span>\n",
       "<span class=\"c1\"># function is mainly useful in a model selection</span>\n",
       "<span class=\"c1\"># scenario.</span>\n",
       "myDistance<span class=\"p\">(</span>\n",
       "  mySummaryStatistics<span class=\"p\">(</span>myModel<span class=\"p\">(</span><span class=\"kt\">list</span><span class=\"p\">(</span>meanX<span class=\"o\">=</span><span class=\"m\">1</span><span class=\"p\">,</span>meanY<span class=\"o\">=</span><span class=\"m\">2</span><span class=\"p\">))),</span>\n",
       "  mySummaryStatistics<span class=\"p\">(</span>myModel<span class=\"p\">(</span><span class=\"kt\">list</span><span class=\"p\">(</span>meanX<span class=\"o\">=</span><span class=\"m\">2</span><span class=\"p\">,</span> meanY<span class=\"o\">=</span><span class=\"m\">2</span><span class=\"p\">))))</span>\n",
       "</pre></div>\n"
      ],
      "text/plain": [
       "<IPython.core.display.HTML object>"
      ]
     },
     "execution_count": 2,
     "metadata": {},
     "output_type": "execute_result"
    }
   ],
   "source": [
    "from pyabc.external import R\n",
    "\n",
    "r = R(\"myRModel.R\")\n",
    "r.display_source_ipython()"
   ]
  },
  {
   "cell_type": "code",
   "execution_count": 3,
   "metadata": {},
   "outputs": [],
   "source": [
    "model = r.model(\"myModel\")\n",
    "distance = r.distance(\"myDistance\")\n",
    "sum_stat = r.summary_statistics(\"mySummaryStatistics\")"
   ]
  },
  {
   "cell_type": "code",
   "execution_count": 4,
   "metadata": {
    "collapsed": true
   },
   "outputs": [],
   "source": [
    "from pyabc import Distribution, RV, ABCSMC\n",
    "\n",
    "prior = Distribution(meanX=RV(\"uniform\", 0, 10),\n",
    "                     meanY=RV(\"uniform\", 0, 10))\n",
    "abc = ABCSMC(model, prior, distance,\n",
    "             summary_statistics=sum_stat)"
   ]
  },
  {
   "cell_type": "code",
   "execution_count": 5,
   "metadata": {},
   "outputs": [
    {
     "name": "stderr",
     "output_type": "stream",
     "text": [
      "INFO:Epsilon:initial epsilon is 4.387906144997348\n",
      "INFO:History:Start <ABCSMC(id=33, start_time=2017-07-26 14:42:00.951718, end_time=None)>\n"
     ]
    },
    {
     "data": {
      "text/plain": [
       "33"
      ]
     },
     "execution_count": 5,
     "metadata": {},
     "output_type": "execute_result"
    }
   ],
   "source": [
    "import os\n",
    "from tempfile import gettempdir\n",
    "\n",
    "db = \"sqlite:///\" + os.path.join(gettempdir(), \"test.db\")\n",
    "abc.new(db, r.observation(\"observation\"))"
   ]
  },
  {
   "cell_type": "code",
   "execution_count": 6,
   "metadata": {},
   "outputs": [
    {
     "name": "stderr",
     "output_type": "stream",
     "text": [
      "INFO:ABC:t:0 eps:4.387906145\n",
      "INFO:ABC:t:1 eps:2.965792624791438\n",
      "INFO:ABC:t:2 eps:2.0248618232582114\n",
      "INFO:ABC:t:3 eps:1.4421255113030536\n",
      "INFO:ABC:t:4 eps:1.0023256513103962\n",
      "INFO:ABC:t:5 eps:0.7650194574360264\n",
      "INFO:ABC:t:6 eps:0.5445583498580935\n",
      "INFO:ABC:t:7 eps:0.37670360235650036\n",
      "INFO:History:Done <ABCSMC(id=33, start_time=2017-07-26 14:42:00.951718, end_time=2017-07-26 14:42:12.747630)>\n"
     ]
    }
   ],
   "source": [
    "history = abc.run(minimum_epsilon=0.5, max_nr_populations=8)"
   ]
  },
  {
   "cell_type": "code",
   "execution_count": 7,
   "metadata": {},
   "outputs": [
    {
     "data": {
      "image/png": "[encoded data removed]",
      "text/plain": [
       "<matplotlib.figure.Figure at 0x7f3151647d68>"
      ]
     },
     "metadata": {},
     "output_type": "display_data"
    }
   ],
   "source": [
    "from pyabc.visualization import plot_hist_2d\n",
    "\n",
    "df, w = abc.history.get_distribution(0)\n",
    "ax = plot_hist_2d(df, w, \"meanX\", \"meanY\",\n",
    "                  xmin=0, xmax=10,\n",
    "                  ymin=0, ymax=10,\n",
    "                  numx=200, numy=200)\n",
    "ax.scatter([4], [8], color=\"orange\", label=\"Ground Truth\");\n",
    "ax.legend();"
   ]
  }
 ],
 "metadata": {
  "celltoolbar": "Raw Cell Format",
  "kernelspec": {
   "display_name": "Python 3",
   "language": "python",
   "name": "python3"
  },
  "language_info": {
   "codemirror_mode": {
    "name": "ipython",
    "version": 3
   },
   "file_extension": ".py",
   "mimetype": "text/x-python",
   "name": "python",
   "nbconvert_exporter": "python",
   "pygments_lexer": "ipython3",
   "version": "3.6.2"
  }
 },
 "nbformat": 4,
 "nbformat_minor": 2
}
