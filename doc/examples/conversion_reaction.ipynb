{
 "cells": [
  {
   "cell_type": "raw",
   "metadata": {
    "raw_mimetype": "text/restructuredtext"
   },
   "source": [
    "Conversion reaction\n",
    "===================\n",
    "\n",
    "This example was kindly contributed by Lukas Sandmeir and Elba Raimundez.\n",
    "\n",
    "This example provides a model for the interconversion of two species \n",
    "(:math:`X_1` and :math:`X_2`) following first-order mass action kinetics with the \n",
    "parameters :math:`\\Theta_1` and :math:`\\Theta_2` respectively:\n",
    "\n",
    "\n",
    ".. math::\n",
    "\n",
    "    X_1 \\rightarrow X_2, rate = \\Theta_1 \\cdot [X_1]\n",
    "\n",
    "\n",
    ".. math ::\n",
    "\n",
    "    X_2 \\rightarrow X_1, rate = \\Theta_2 \\cdot [X_2]\n",
    "\n",
    "Measurement of :math:`[X_2]` is provided as :math:`Y = [X_2]`.\n",
    "\n",
    "We will show how to estimate :math:`\\Theta_1` and :math:`\\Theta_2` using pyABC."
   ]
  },
  {
   "cell_type": "code",
   "execution_count": null,
   "metadata": {
    "collapsed": true
   },
   "outputs": [],
   "source": [
    "from pyabc import (ABCSMC,\n",
    "                   RV, Distribution,\n",
    "                   MedianEpsilon,\n",
    "                   LocalTransition)\n",
    "from pyabc.visualization import plot_kde_2d\n",
    "import matplotlib.pyplot as plt\n",
    "%matplotlib inline\n",
    "import os\n",
    "import tempfile\n",
    "import scipy as sp\n",
    "db_path = (\"sqlite:///\" +\n",
    "           os.path.join(tempfile.gettempdir(), \"test.db\"))"
   ]
  },
  {
   "cell_type": "raw",
   "metadata": {
    "raw_mimetype": "text/restructuredtext"
   },
   "source": [
    "Data\n",
    "----\n",
    "\n",
    "We use an artificial data set which consists of a vector of time points :math:`t`\n",
    "and a measurement vector :math:`Y`. This data was created using the parameter \n",
    "values which are assigned to :math:`\\theta_{true}` and by adding normaly distributed \n",
    "measurement noise with variance :math:`\\sigma^2 = 0.015^2`. \n",
    "\n",
    "ODE model\n",
    "---------\n",
    "\n",
    ".. math::\n",
    "\n",
    "    \\begin{align*}\n",
    "    \\frac{dX_1}{dt} &= -\\Theta_1 \\cdot X_1 + \\Theta_2 \\cdot X_2\\\\\n",
    "    \\frac{dX_2}{dt} &= \\Theta_1 \\cdot X_1 - \\Theta_2 \\cdot X_2\n",
    "    \\end{align*}\n"
   ]
  },
  {
   "cell_type": "markdown",
   "metadata": {},
   "source": [
    "Define the true parameters"
   ]
  },
  {
   "cell_type": "code",
   "execution_count": null,
   "metadata": {
    "collapsed": true
   },
   "outputs": [],
   "source": [
    "theta1_true, theta2_true = sp.exp([-2.5, -2])"
   ]
  },
  {
   "cell_type": "markdown",
   "metadata": {},
   "source": [
    "and the measurement data"
   ]
  },
  {
   "cell_type": "code",
   "execution_count": null,
   "metadata": {
    "collapsed": true
   },
   "outputs": [],
   "source": [
    "measurement_data = sp.array([0.0244, 0.0842, 0.1208,\n",
    "                             0.1724, 0.2315, 0.2634,\n",
    "                             0.2831, 0.3084, 0.3079,\n",
    "                             0.3097, 0.3324])"
   ]
  },
  {
   "cell_type": "markdown",
   "metadata": {},
   "source": [
    "as well as the time points at whith to evaluate"
   ]
  },
  {
   "cell_type": "code",
   "execution_count": null,
   "metadata": {
    "collapsed": true
   },
   "outputs": [],
   "source": [
    "measurement_times = sp.arange(len(measurement_data))        "
   ]
  },
  {
   "cell_type": "markdown",
   "metadata": {},
   "source": [
    "and the initial conditions for $X_1$ and $X_2$"
   ]
  },
  {
   "cell_type": "code",
   "execution_count": null,
   "metadata": {
    "collapsed": true
   },
   "outputs": [],
   "source": [
    "init = sp.array([1, 0])"
   ]
  },
  {
   "cell_type": "markdown",
   "metadata": {},
   "source": [
    "Define the ODE model"
   ]
  },
  {
   "cell_type": "code",
   "execution_count": null,
   "metadata": {
    "collapsed": true
   },
   "outputs": [],
   "source": [
    "def f(y, t0, theta1, theta2):\n",
    "    x1, x2 = y\n",
    "    dx1 = - theta1 * x1 + theta2 * x2\n",
    "    dx2 =   theta1 * x1 - theta2 * x2\n",
    "    return dx1, dx2\n",
    "\n",
    "\n",
    "def model(pars):\n",
    "    sol = sp.integrate.odeint(\n",
    "             f, init, measurement_times,\n",
    "             args=(pars[\"theta1\"],pars[\"theta2\"]))\n",
    "    return {\"X_2\": sol[:,1]}"
   ]
  },
  {
   "cell_type": "markdown",
   "metadata": {},
   "source": [
    "Integration of the ODE model for the true parameter values"
   ]
  },
  {
   "cell_type": "code",
   "execution_count": null,
   "metadata": {
    "collapsed": true
   },
   "outputs": [],
   "source": [
    "true_trajectory = model({\"theta1\": theta1_true,\n",
    "                         \"theta2\": theta2_true})[\"X_2\"]"
   ]
  },
  {
   "cell_type": "markdown",
   "metadata": {},
   "source": [
    "Let's visualize the results"
   ]
  },
  {
   "cell_type": "code",
   "execution_count": null,
   "metadata": {
    "collapsed": true
   },
   "outputs": [],
   "source": [
    "plt.plot(true_trajectory, color=\"C0\", label='Simulation')\n",
    "plt.scatter(measurement_times, measurement_data,\n",
    "            color=\"C1\", label='Data')\n",
    "plt.xlabel('Time $t$')\n",
    "plt.ylabel('Measurement $Y$')\n",
    "plt.title('Conversion reaction: True parameters fit')\n",
    "plt.legend()\n",
    "plt.show()"
   ]
  },
  {
   "cell_type": "code",
   "execution_count": null,
   "metadata": {
    "collapsed": true
   },
   "outputs": [],
   "source": [
    "def distance(simulation, data):\n",
    "    return sp.absolute(data[\"X_2\"] - simulation[\"X_2\"]).sum()"
   ]
  },
  {
   "cell_type": "markdown",
   "metadata": {},
   "source": [
    "Define the prior for $\\Theta_1$ and $\\Theta_2$"
   ]
  },
  {
   "cell_type": "code",
   "execution_count": null,
   "metadata": {
    "collapsed": true
   },
   "outputs": [],
   "source": [
    "parameter_prior = Distribution(theta1=RV(\"uniform\", 0, 1),\n",
    "                               theta2=RV(\"uniform\", 0, 1))\n",
    "parameter_prior.get_parameter_names()"
   ]
  },
  {
   "cell_type": "code",
   "execution_count": null,
   "metadata": {
    "collapsed": true
   },
   "outputs": [],
   "source": [
    "abc = ABCSMC(models=model,\n",
    "             parameter_priors=parameter_prior,\n",
    "             distance_function=distance,\n",
    "             population_specification=50,\n",
    "             transitions=LocalTransition(k_fraction=.3),\n",
    "             eps=MedianEpsilon(500, median_multiplier=0.7))"
   ]
  },
  {
   "cell_type": "code",
   "execution_count": null,
   "metadata": {
    "collapsed": true
   },
   "outputs": [],
   "source": [
    "abc.new(db_path, {\"X_2\": measurement_data});"
   ]
  },
  {
   "cell_type": "code",
   "execution_count": null,
   "metadata": {
    "collapsed": true
   },
   "outputs": [],
   "source": [
    "h = abc.run(minimum_epsilon=0.1, max_nr_populations=3)"
   ]
  },
  {
   "cell_type": "markdown",
   "metadata": {},
   "source": [
    "Visualization of the probability density functions for $\\Theta_1$ and $\\Theta_2$"
   ]
  },
  {
   "cell_type": "code",
   "execution_count": null,
   "metadata": {
    "collapsed": true
   },
   "outputs": [],
   "source": [
    "for t in range(h.max_t+1):\n",
    "    ax = plot_kde_2d(*h.get_distribution(m=0, t=t),\n",
    "                     \"theta1\", \"theta2\",\n",
    "                xmin=0, xmax=1, numx=300,\n",
    "                ymin=0, ymax=1, numy=300)\n",
    "    ax.scatter([theta1_true], [theta2_true],\n",
    "                color=\"C1\",\n",
    "                label='$\\Theta$ true = {:.3f}, {:.3f}'.format(\n",
    "                    theta1_true, theta2_true))\n",
    "    ax.set_title(\"Posterior t={}\".format(t))\n",
    "    ax.legend()"
   ]
  }
 ],
 "metadata": {
  "celltoolbar": "Raw Cell Format",
  "kernelspec": {
   "display_name": "Python 3",
   "language": "python",
   "name": "python3"
  },
  "language_info": {
   "codemirror_mode": {
    "name": "ipython",
    "version": 3
   },
   "file_extension": ".py",
   "mimetype": "text/x-python",
   "name": "python",
   "nbconvert_exporter": "python",
   "pygments_lexer": "ipython3",
   "version": "3.6.2"
  }
 },
 "nbformat": 4,
 "nbformat_minor": 2
}
