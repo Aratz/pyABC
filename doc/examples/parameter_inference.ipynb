{
 "cells": [
  {
   "cell_type": "raw",
   "metadata": {},
   "source": [
    "Parameter inference\n",
    "===================\n",
    "\n",
    "This example illustrates parameter inference for a single model.\n",
    "(Check also the `model selection <quickstart.ipynb>`_ example if you're interested\n",
    "in comparing multiple models.)\n",
    "\n",
    "\n",
    "This notebook can be downloaded here:\n",
    ":download:`Parameter Inference <parameter_inference.ipynb>`.\n",
    "\n",
    "We're going to use the following classes from the pyABC package:\n",
    "\n",
    "* :class:`ABCSMC <pyabc.smc.ABCSMC>`,\n",
    "  our entry point to parameter inference,\n",
    "* :class:`RV <pyabc.random_variables.RV>`,\n",
    "  to define the prior over a single parameter,\n",
    "* :class:`Distribution <pyabc.random_variables.Distribution>`,\n",
    "  to define the prior over a possibly higher dimensional parameter space,\n",
    "* :class:`MultivariateNormalTransition <pyabc.transition.MultivariateNormalTransition>`,\n",
    "  to do a kernel density estimate (KDE) for visualization purposes.\n",
    "  \n",
    "Let's start to import the necessary classes. We also set up matplotlib and we're going to use pandas as well."
   ]
  },
  {
   "cell_type": "code",
   "execution_count": 1,
   "metadata": {
    "collapsed": true
   },
   "outputs": [],
   "source": [
    "from pyabc import (ABCSMC, Distribution, RV,\n",
    "                   MultivariateNormalTransition)\n",
    "import scipy as sp\n",
    "import scipy.stats as st\n",
    "import tempfile\n",
    "import os\n",
    "import pandas as pd\n",
    "import matplotlib.pyplot as plt\n",
    "%matplotlib inline"
   ]
  },
  {
   "cell_type": "raw",
   "metadata": {},
   "source": [
    "Our model is about as simple as it gets. We assume a Gaussian model :math:`\\mathcal{N}(\\mathrm{mean}, 1)` with the single parameter ``mean``.\n",
    "The variance is 1.\n",
    "In this case, the parameter dictionary that is passed to the model has only the single key ``mean``.\n",
    "We name the sampled data just ``data``. It might seem like overcomplicating things to return a whole dictionary, but as soon as we return heterogeneous data this starts to make a lot of sense."
   ]
  },
  {
   "cell_type": "code",
   "execution_count": 2,
   "metadata": {
    "collapsed": true
   },
   "outputs": [],
   "source": [
    "def model(parameter):\n",
    "    return {\"data\": parameter[\"mean\"] + sp.randn()}"
   ]
  },
  {
   "cell_type": "raw",
   "metadata": {},
   "source": [
    "We then define the prior over the ``mean`` to be uniform over the interval :math:`[0, 5]`."
   ]
  },
  {
   "cell_type": "code",
   "execution_count": 3,
   "metadata": {
    "collapsed": true
   },
   "outputs": [],
   "source": [
    "prior = Distribution(mean=RV(\"uniform\", 0, 5))"
   ]
  },
  {
   "cell_type": "raw",
   "metadata": {},
   "source": [
    "(Actually, this has to be read as [0, 0+5]. For example, ``RV(\"uniform\", 1, 5)`` is uniform over the interval\n",
    "[1,6]. Check the scipy.stats package for details of the definition.)\n",
    "We also need to express when we consider data to be close in form of a distance funtion.\n",
    "We just take the absolute value of the difference here."
   ]
  },
  {
   "cell_type": "code",
   "execution_count": 4,
   "metadata": {
    "collapsed": true
   },
   "outputs": [],
   "source": [
    "def distance(x, y):\n",
    "    return abs(x[\"data\"] - y[\"data\"])"
   ]
  },
  {
   "cell_type": "raw",
   "metadata": {},
   "source": [
    "Now we create the ABCSMC object, passing the model, the prior and the distance to it."
   ]
  },
  {
   "cell_type": "code",
   "execution_count": null,
   "metadata": {},
   "outputs": [],
   "source": []
  },
  {
   "cell_type": "code",
   "execution_count": 5,
   "metadata": {
    "collapsed": true
   },
   "outputs": [],
   "source": [
    "abc = ABCSMC(model, prior, distance)"
   ]
  },
  {
   "cell_type": "raw",
   "metadata": {},
   "source": [
    "To get going, we have to specify where to log the ABC-SMC runs. We can later query the database with the help of the\n",
    ":class:`History <pyabc.storage.History>` class.\n",
    "Usually you would now have some measure data which you want to know the posterior of.\n",
    "Here, we just assume, that the measured data was 2.5."
   ]
  },
  {
   "cell_type": "code",
   "execution_count": 6,
   "metadata": {
    "collapsed": true
   },
   "outputs": [
    {
     "name": "stderr",
     "output_type": "stream",
     "text": [
      "INFO:Epsilon:initial epsilon is 1.3908662743208229\n"
     ]
    },
    {
     "name": "stderr",
     "output_type": "stream",
     "text": [
      "INFO:History:Start <ABCSMC(id=16, start_time=2018-01-17 16:23:35.556818, end_time=None)>\n"
     ]
    },
    {
     "data": {
      "text/plain": [
       "16"
      ]
     },
     "execution_count": 6,
     "metadata": {},
     "output_type": "execute_result"
    }
   ],
   "source": [
    "db_path = (\"sqlite:///\" +\n",
    "           os.path.join(tempfile.gettempdir(), \"test.db\"))\n",
    "observation = 2.5\n",
    "abc.new(db_path, {\"data\": observation})"
   ]
  },
  {
   "cell_type": "raw",
   "metadata": {},
   "source": [
    "The ``new`` method returned an integer. This is the id of the ABC-SMC run.\n",
    "This id is only important if more than one ABC-SMC run is stored in the same database.\n",
    "\n",
    "Let's start the sampling now. We'll sample until the acceptance threshold epsilon drops below 0.2.\n",
    "We also specify that we want a maximum number of 10 populations.\n",
    "So whatever is reached first, ``minimum_epsilon`` or ``max_nr_populations`` will stop further sampling.\n",
    "For the simple model we defined above, this should only take a couple of seconds."
   ]
  },
  {
   "cell_type": "code",
   "execution_count": 7,
   "metadata": {
    "collapsed": true
   },
   "outputs": [
    {
     "name": "stderr",
     "output_type": "stream",
     "text": [
      "INFO:ABC:t:0 eps:1.3908662743208229\n"
     ]
    },
    {
     "name": "stderr",
     "output_type": "stream",
     "text": [
      "INFO:ABC:t:1 eps:0.8530536700548883\n"
     ]
    },
    {
     "name": "stderr",
     "output_type": "stream",
     "text": [
      "INFO:ABC:t:2 eps:0.4713778943005849\n"
     ]
    },
    {
     "name": "stderr",
     "output_type": "stream",
     "text": [
      "INFO:ABC:t:3 eps:0.250543959634837\n"
     ]
    },
    {
     "name": "stderr",
     "output_type": "stream",
     "text": [
      "INFO:ABC:t:4 eps:0.11745723309029035\n"
     ]
    },
    {
     "name": "stderr",
     "output_type": "stream",
     "text": [
      "INFO:History:Done <ABCSMC(id=16, start_time=2018-01-17 16:23:35.556818, end_time=2018-01-17 16:23:50.374315)>\n"
     ]
    }
   ],
   "source": [
    "history = abc.run(minimum_epsilon=.2, max_nr_populations=10)"
   ]
  },
  {
   "cell_type": "raw",
   "metadata": {},
   "source": [
    "The :class:`History <pyabc.storage.History>` object returned by ABCSMC.run can be used to query the database.\n",
    "This object is also available via abc.history."
   ]
  },
  {
   "cell_type": "code",
   "execution_count": 9,
   "metadata": {
    "collapsed": true
   },
   "outputs": [
    {
     "data": {
      "text/plain": [
       "True"
      ]
     },
     "execution_count": 9,
     "metadata": {},
     "output_type": "execute_result"
    }
   ],
   "source": [
    "history is abc.history"
   ]
  },
  {
   "cell_type": "raw",
   "metadata": {},
   "source": [
    "Now we visualize the probability density functions.\n",
    "The vertical line indicates the location of the observation.\n",
    "Given our model, we expect the mean to be close to the observed data."
   ]
  },
  {
   "cell_type": "code",
   "execution_count": 10,
   "metadata": {
    "collapsed": true
   },
   "outputs": [
    {
     "data": {
      "image/png": "[encoded data removed]",
      "text/plain": [
       "<matplotlib.figure.Figure at 0x18229ffadd8>"
      ]
     },
     "metadata": {},
     "output_type": "display_data"
    }
   ],
   "source": [
    "from pyabc.visualization import plot_kde_1d\n",
    "fig, ax = plt.subplots()\n",
    "for t in range(history.max_t+1):\n",
    "    df, w = history.get_distribution(m=0, t=t)\n",
    "    plot_kde_1d(df, w,\n",
    "                xmin=0, xmax=5,\n",
    "                x=\"mean\", ax=ax,\n",
    "                label=\"PDF t={}\".format(t))\n",
    "ax.axvline(observation, color=\"k\", linestyle=\"dashed\");\n",
    "ax.legend();"
   ]
  },
  {
   "cell_type": "raw",
   "metadata": {},
   "source": [
    "That's it. Now you can go ahead and try more sophisticated models."
   ]
  }
 ],
 "metadata": {
  "celltoolbar": "Raw Cell Format",
  "kernelspec": {
   "display_name": "Python 3",
   "language": "python",
   "name": "python3"
  },
  "language_info": {
   "codemirror_mode": {
    "name": "ipython",
    "version": 3
   },
   "file_extension": ".py",
   "mimetype": "text/x-python",
   "name": "python",
   "nbconvert_exporter": "python",
   "pygments_lexer": "ipython3",
   "version": "3.6.2"
  }
 },
 "nbformat": 4,
 "nbformat_minor": 2
}
