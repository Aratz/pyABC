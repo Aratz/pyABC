{
 "cells": [
  {
   "cell_type": "raw",
   "metadata": {
    "raw_mimetype": "text/restructuredtext"
   },
   "source": [
    "Parameter inference made easy\n",
    "=============================\n",
    "\n",
    "In this example, we're going to use the following classes:\n",
    "\n",
    "* :class:`ABCSMC <pyabc.smc.ABCSMC>`,\n",
    "  our entry point to parameter inference,\n",
    "* :class:`RV <pyabc.random_variables.RV>`,\n",
    "  to define the prior over a single parameter,\n",
    "* :class:`Distribution <pyabc.random_variables.Distribution>`,\n",
    "  to define the prior over a possibly higher dimensional parameter space,\n",
    "* :class:`MultivariateNormalTransition <pyabc.transition.MultivariateNormalTransition>`,\n",
    "  to do a kernel density estimate (KDE) for visualization purposes.\n",
    "  \n",
    "Let's start to import the necessary classes. We also set up matplotlib and we're going to use pandas as well."
   ]
  },
  {
   "cell_type": "code",
   "execution_count": null,
   "metadata": {
    "collapsed": true
   },
   "outputs": [],
   "source": [
    "from pyabc import (ABCSMC, Distribution, RV,\n",
    "                   MultivariateNormalTransition)\n",
    "import scipy as sp\n",
    "import scipy.stats as st\n",
    "import tempfile\n",
    "import os\n",
    "import pandas as pd\n",
    "import matplotlib.pyplot as plt\n",
    "%matplotlib inline"
   ]
  },
  {
   "cell_type": "raw",
   "metadata": {
    "raw_mimetype": "text/restructuredtext"
   },
   "source": [
    "Our model is about as simple as it gets. We assume a Gaussian model :math:`\\mathcal{N}(\\mathrm{mean}, 1)` with the single parameter ``mean``.\n",
    "The standarddeviation is 1.\n",
    "In this case, the parameter dictionary which is passed to the model has only the single key ``mean``.\n",
    "We name the sampled data just ``data``. It might seem like overcomplicating things to return a whole dictionary, but as soon as we return heterogeneous data this makes a lot of sense."
   ]
  },
  {
   "cell_type": "code",
   "execution_count": null,
   "metadata": {
    "collapsed": true
   },
   "outputs": [],
   "source": [
    "def model(parameter):\n",
    "    return {\"data\": parameter[\"mean\"] + sp.randn()}"
   ]
  },
  {
   "cell_type": "raw",
   "metadata": {
    "raw_mimetype": "text/restructuredtext"
   },
   "source": [
    "We then define the prior over the ``mean`` to be uniform over the interval :math:`[0, 5]`."
   ]
  },
  {
   "cell_type": "code",
   "execution_count": null,
   "metadata": {
    "collapsed": true
   },
   "outputs": [],
   "source": [
    "prior = Distribution(mean=RV(\"uniform\", 0, 5))"
   ]
  },
  {
   "cell_type": "raw",
   "metadata": {
    "raw_mimetype": "text/restructuredtext"
   },
   "source": [
    "We also need to express when we consider data to be close in form of a distance funtion.\n",
    "We just take the absolute value of the difference here."
   ]
  },
  {
   "cell_type": "code",
   "execution_count": null,
   "metadata": {
    "collapsed": true
   },
   "outputs": [],
   "source": [
    "def distance(x, y):\n",
    "    return abs(x[\"data\"] - y[\"data\"])"
   ]
  },
  {
   "cell_type": "raw",
   "metadata": {
    "raw_mimetype": "text/restructuredtext"
   },
   "source": [
    "Now we create the ABCSMC object, passing the model, the prior and the distance to it."
   ]
  },
  {
   "cell_type": "code",
   "execution_count": null,
   "metadata": {
    "collapsed": true
   },
   "outputs": [],
   "source": [
    "abc = ABCSMC(model, prior, distance)"
   ]
  },
  {
   "cell_type": "raw",
   "metadata": {
    "raw_mimetype": "text/restructuredtext"
   },
   "source": [
    "To get going, we have to specify where to log the ABC-SMC runs. We can later query the database with the help of the\n",
    ":class:`History <pyabc.storage.History>` class.\n",
    "Usually you would now have some measure data which you want to know the posterior of.\n",
    "Here, we just assume, that the measured data was 2.5."
   ]
  },
  {
   "cell_type": "code",
   "execution_count": null,
   "metadata": {
    "collapsed": true
   },
   "outputs": [],
   "source": [
    "db_path = (\"sqlite:///\" +\n",
    "           os.path.join(tempfile.gettempdir(), \"test.db\"))\n",
    "observation = 2.5\n",
    "abc.set_data({\"data\": observation}, db_path)"
   ]
  },
  {
   "cell_type": "raw",
   "metadata": {
    "raw_mimetype": "text/restructuredtext"
   },
   "source": [
    "Let's start the sampling now. We'll sample until the acceptance threshold epsilon drops below 0.2.\n",
    "We also specify that we want a maximum number of 10 populations.\n",
    "So whatever is reached first, ``minimum_epsilon`` or ``max_nr_populations`` will stop further sampling.\n",
    "For the simple model we defined above, this should only take a couple of seconds."
   ]
  },
  {
   "cell_type": "code",
   "execution_count": null,
   "metadata": {
    "collapsed": true
   },
   "outputs": [],
   "source": [
    "history = abc.run(minimum_epsilon=.2, max_nr_populations=10)"
   ]
  },
  {
   "cell_type": "raw",
   "metadata": {
    "raw_mimetype": "text/restructuredtext"
   },
   "source": [
    "The :class:`History <pyabc.storage.History>` object returned by ABCSMC.run can be used to query the database.\n",
    "This object is also available via abc.history"
   ]
  },
  {
   "cell_type": "code",
   "execution_count": null,
   "metadata": {
    "collapsed": true
   },
   "outputs": [],
   "source": [
    "history is abc.history"
   ]
  },
  {
   "cell_type": "raw",
   "metadata": {
    "raw_mimetype": "text/restructuredtext"
   },
   "source": [
    "We want to plot kernel density estimates on the posterior particle populations. We'll plot it for each population.\n",
    "To do so, we create a DataFrame df, initially with the single column ``mean``. These are the x-points of the\n",
    "probability density we want to plot.\n",
    "We do a a multivariate normal KDE (e.g. Silverman style) on the posterior distribution of each population t and\n",
    "add it to the same DataFrame df."
   ]
  },
  {
   "cell_type": "code",
   "execution_count": null,
   "metadata": {
    "collapsed": true
   },
   "outputs": [],
   "source": [
    "df = pd.DataFrame({\"mean\": sp.linspace(0, 5)})\n",
    "kde = MultivariateNormalTransition()\n",
    "for t in range(history.max_t+1):\n",
    "    posterior_particles = history.get_distribution(m=0, t=t)\n",
    "    kde.fit(*posterior_particles)\n",
    "    df[\"PDF t={}\".format(t)] = kde.pdf(df[[\"mean\"]])"
   ]
  },
  {
   "cell_type": "raw",
   "metadata": {
    "raw_mimetype": "text/restructuredtext"
   },
   "source": [
    "Now we visualize the probability density functions.\n",
    "The vertical line indicates the location of the observation.\n",
    "Given our model, we expect the mean to be close to the observed data."
   ]
  },
  {
   "cell_type": "code",
   "execution_count": null,
   "metadata": {
    "collapsed": true
   },
   "outputs": [],
   "source": [
    "ax = df.plot(x=\"mean\");\n",
    "ax.axvline(observation, color=\"k\", linestyle=\"dashed\");"
   ]
  },
  {
   "cell_type": "raw",
   "metadata": {
    "raw_mimetype": "text/restructuredtext"
   },
   "source": [
    "That's it. Now you can go ahead and try more sophisticated models."
   ]
  }
 ],
 "metadata": {
  "celltoolbar": "Raw Cell Format",
  "kernelspec": {
   "display_name": "Python 3",
   "language": "python",
   "name": "python3"
  },
  "language_info": {
   "codemirror_mode": {
    "name": "ipython",
    "version": 3
   },
   "file_extension": ".py",
   "mimetype": "text/x-python",
   "name": "python",
   "nbconvert_exporter": "python",
   "pygments_lexer": "ipython3",
   "version": "3.6.1"
  }
 },
 "nbformat": 4,
 "nbformat_minor": 2
}
