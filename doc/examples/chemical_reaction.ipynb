{
 "cells": [
  {
   "cell_type": "markdown",
   "metadata": {},
   "source": [
    "Markov Jump Process: Chemical Reaction\n",
    "======================================"
   ]
  },
  {
   "cell_type": "raw",
   "metadata": {
    "raw_mimetype": "text/restructuredtext"
   },
   "source": [
    "In the following, we fit stochastic chemical reaction kinetics with pyABC and show how to perform model selection between two competing models.\n",
    "\n",
    "This notebook can be downloaded here: :download:`Chemical Reaction Notebook <chemical_reaction.ipynb>`."
   ]
  },
  {
   "cell_type": "markdown",
   "metadata": {},
   "source": [
    "We consider the two Markov jump process models $m_1$ and $m_2$ for conversion of (chemical) species $X$ to species $Y$:\n",
    "\n",
    "$$\n",
    "  m_1: X + Y \\xrightarrow{k_1} 2Y\\\\ m_2: X \\xrightarrow{k_2} Y.\n",
    "$$"
   ]
  },
  {
   "cell_type": "markdown",
   "metadata": {},
   "source": [
    "Each model is equipped with a single rate parameter $k$.\n",
    "To simulate these models, we define a simple Gillespie simulator:"
   ]
  },
  {
   "cell_type": "code",
   "execution_count": 1,
   "metadata": {
    "collapsed": true
   },
   "outputs": [],
   "source": [
    "import scipy as sp\n",
    "\n",
    "def h(x, pre, c):\n",
    "    return (x**pre).prod(1) * c\n",
    "\n",
    "def gillespie(x, c, pre, post, max_t):\n",
    "    \"\"\"\n",
    "    Gillespie simulation\n",
    "    \n",
    "    Parameters\n",
    "    ----------\n",
    "    \n",
    "    x: 1D array of size n_species\n",
    "        The initial numbers.\n",
    "    \n",
    "    c: 1D array of size n_reactions\n",
    "        The reaction rates.\n",
    "    \n",
    "    pre: array of size n_reactions x n_species\n",
    "        What is to be consumed.\n",
    "    \n",
    "    post: array of size n_reactions x n_species\n",
    "        What is to be produced\n",
    "    \n",
    "    max_t: int\n",
    "        Timulate up to time max_t\n",
    "        \n",
    "    Returns\n",
    "    -------\n",
    "    t, X: 1d array, 2d array\n",
    "        t: The time points.\n",
    "        X: The history of the species.\n",
    "           ``X.shape == (t.size, x.size)``\n",
    "    \n",
    "    \"\"\"\n",
    "    t = 0\n",
    "    t_store = [t]\n",
    "    x_store = [x.copy()]\n",
    "    S = post - pre\n",
    "\n",
    "    while t < max_t:\n",
    "        h_vec = h(x, pre, c)\n",
    "        h0 = h_vec.sum()\n",
    "        delta_t = sp.random.exponential(1 / h0)\n",
    "        # no reaction can occur any more\n",
    "        if not sp.isfinite(delta_t):\n",
    "            t_store.append(max_t)\n",
    "            x_store.append(x)\n",
    "            break\n",
    "        reaction = sp.random.choice(c.size, p=h_vec/h0)\n",
    "        t = t + delta_t\n",
    "        x = x + S[reaction]\n",
    "        \n",
    "        t_store.append(t)\n",
    "        x_store.append(x)\n",
    "\n",
    "    return sp.asarray(t_store), sp.asarray(x_store)"
   ]
  },
  {
   "cell_type": "markdown",
   "metadata": {},
   "source": [
    "Next, we define the models in terms of ther initial molecule numbers $x_0$, an array ``pre`` which determines what is to be consumed (the left hand side of the reaction equations) and an array ``post`` which determines what is to be produced (the right hand side of the reaction equations).\n",
    "Moreover, we define that the simulation time should not exceed ``MAX_T`` seconds.\n",
    "\n",
    "Model 1 starts with initial concentrations $X=40$ and $Y=3$.\n",
    "The reaction $X + Y \\rightarrow 2Y$ is encoded in ``pre = [[1, 1]]`` and ``post = [[0, 2]]``."
   ]
  },
  {
   "cell_type": "code",
   "execution_count": 2,
   "metadata": {
    "collapsed": true
   },
   "outputs": [],
   "source": [
    "MAX_T = 0.1\n",
    "\n",
    "class Model1:\n",
    "    __name__ = \"Model 1\"\n",
    "    x0 = sp.array([40, 3])   # Initial molecule numbers\n",
    "    pre = sp.array([[1, 1]], dtype=int)\n",
    "    post = sp.array([[0, 2]])\n",
    "    \n",
    "    \n",
    "    def __call__(self, par):\n",
    "        t, X = gillespie(self.x0,\n",
    "                         sp.array([float(par[\"rate\"])]),\n",
    "                         self.pre, self.post,\n",
    "                         MAX_T)\n",
    "        return {\"t\": t, \"X\" : X}"
   ]
  },
  {
   "cell_type": "markdown",
   "metadata": {},
   "source": [
    "Model 2 inherits the initial concentration from model 1.\n",
    "The reaction $X \\rightarrow Y$ is incoded in ``pre = [[1, 0]]`` and ``post = [[0, 1]]``."
   ]
  },
  {
   "cell_type": "code",
   "execution_count": 3,
   "metadata": {
    "collapsed": true
   },
   "outputs": [],
   "source": [
    "class Model2(Model1):\n",
    "    __name__ = \"Model 2\"\n",
    "    pre = sp.array([[1, 0]], dtype=int)\n",
    "    post = sp.array([[0, 1]])"
   ]
  },
  {
   "cell_type": "markdown",
   "metadata": {},
   "source": [
    "We draw one stochastic simulation from model 1 (the \"Observation\") and and one from model 2 (the \"Competition\") and visualize both"
   ]
  },
  {
   "cell_type": "code",
   "execution_count": 4,
   "metadata": {},
   "outputs": [
    {
     "data": {
      "image/png": "[encoded data removed]",
      "text/plain": [
       "<matplotlib.figure.Figure at 0x7ff888048c88>"
      ]
     },
     "metadata": {},
     "output_type": "display_data"
    }
   ],
   "source": [
    "%matplotlib inline\n",
    "import matplotlib.pyplot as plt\n",
    "\n",
    "true_rate = 2.3\n",
    "observations = [Model1()({\"rate\": true_rate}),\n",
    "                Model2()({\"rate\": 30})]\n",
    "fig, axes = plt.subplots(ncols=2)\n",
    "fig.set_size_inches((12, 4))\n",
    "for ax, title, obs in zip(axes, [\"Observation\", \"Competition\"],\n",
    "                          observations):\n",
    "    ax.step(obs[\"t\"], obs[\"X\"]);\n",
    "    ax.legend([\"Species X\", \"Species Y\"]);\n",
    "    ax.set_xlabel(\"Time\");\n",
    "    ax.set_ylabel(\"Concentration\");\n",
    "    ax.set_title(title);"
   ]
  },
  {
   "cell_type": "markdown",
   "metadata": {},
   "source": [
    "We observe that species $X$ is converted into species $Y$ in both cases.\n",
    "The difference of the concentrations over time can be quite subtle.\n",
    "\n",
    "We define a distance function as $L_1$ norm of two trajectories, evaluated at 20 time points:\n",
    "\n",
    "$$\n",
    "  \\mathrm{distance}(X_1, X_2) =\n",
    "     \\sum_{n=1}^{N} \n",
    "           \\left  |X_1(t_n) -X_2(t_n) \n",
    "           \\right|, \\quad t_n = \\frac{n}{N}T, \\quad  N=20 \\,.\n",
    "$$"
   ]
  },
  {
   "cell_type": "markdown",
   "metadata": {},
   "source": [
    "Note that we only consider the concentration of species $X$ for distance calculation. And in code:"
   ]
  },
  {
   "cell_type": "code",
   "execution_count": 5,
   "metadata": {
    "collapsed": true
   },
   "outputs": [],
   "source": [
    "N_TEST_TIMES = 20\n",
    "\n",
    "t_test_times = sp.linspace(0, MAX_T, N_TEST_TIMES)\n",
    "def distance(x, y):\n",
    "    xt_ind = sp.searchsorted(x[\"t\"], t_test_times) - 1\n",
    "    yt_ind = sp.searchsorted(y[\"t\"], t_test_times) - 1\n",
    "    error = (sp.absolute(x[\"X\"][:,1][xt_ind]\n",
    "                        - y[\"X\"][:,1][yt_ind]).sum()\n",
    "             / t_test_times.size)\n",
    "    return error"
   ]
  },
  {
   "cell_type": "markdown",
   "metadata": {
    "collapsed": true
   },
   "source": [
    "For ABC, we choose for both models a uniform prior over the interval $[0, 100]$ for their single rate parameters:"
   ]
  },
  {
   "cell_type": "code",
   "execution_count": 6,
   "metadata": {
    "collapsed": true
   },
   "outputs": [],
   "source": [
    "from pyabc import Distribution, RV\n",
    "\n",
    "prior = Distribution(rate=RV(\"uniform\", 0, 100))"
   ]
  },
  {
   "cell_type": "markdown",
   "metadata": {},
   "source": [
    "We initialize the ABCSMC class passing the two models, their priors and the distance function."
   ]
  },
  {
   "cell_type": "code",
   "execution_count": 7,
   "metadata": {
    "collapsed": true
   },
   "outputs": [],
   "source": [
    "from pyabc import ABCSMC\n",
    "\n",
    "abc = ABCSMC([Model1(),\n",
    "              Model2()],\n",
    "              [prior, prior],\n",
    "               distance)"
   ]
  },
  {
   "cell_type": "markdown",
   "metadata": {},
   "source": [
    "We initialize a new ABC run, taking as observed data the one generated by model 1.\n",
    "The ABC run is to be stored in the sqlite database located at ``/tmp/mjp.db``."
   ]
  },
  {
   "cell_type": "code",
   "execution_count": 8,
   "metadata": {},
   "outputs": [
    {
     "name": "stderr",
     "output_type": "stream",
     "text": [
      "/usr/lib/python3.6/site-packages/ipykernel/__main__.py:44: RuntimeWarning: divide by zero encountered in double_scalars\n",
      "/usr/lib/python3.6/site-packages/ipykernel/__main__.py:44: RuntimeWarning: divide by zero encountered in double_scalars\n",
      "/usr/lib/python3.6/site-packages/ipykernel/__main__.py:44: RuntimeWarning: divide by zero encountered in double_scalars\n",
      "/usr/lib/python3.6/site-packages/ipykernel/__main__.py:44: RuntimeWarning: divide by zero encountered in double_scalars\n",
      "INFO:Epsilon:initial epsilon is 5.8100000000000005\n",
      "INFO:History:Start <ABCSMC(id=7, start_time=2017-09-12 14:16:42.487620, end_time=None)>\n"
     ]
    }
   ],
   "source": [
    "abc_id = abc.new(\"sqlite:////tmp/mjp.db\", observations[0])"
   ]
  },
  {
   "cell_type": "markdown",
   "metadata": {},
   "source": [
    "We start pyABC which automatically parallelizes across all available cores."
   ]
  },
  {
   "cell_type": "code",
   "execution_count": 9,
   "metadata": {},
   "outputs": [
    {
     "name": "stderr",
     "output_type": "stream",
     "text": [
      "INFO:ABC:t:0 eps:5.81\n",
      "/usr/lib/python3.6/site-packages/ipykernel/__main__.py:44: RuntimeWarning: divide by zero encountered in double_scalars\n",
      "/usr/lib/python3.6/site-packages/ipykernel/__main__.py:44: RuntimeWarning: divide by zero encountered in double_scalars\n",
      "/usr/lib/python3.6/site-packages/ipykernel/__main__.py:44: RuntimeWarning: divide by zero encountered in double_scalars\n",
      "/usr/lib/python3.6/site-packages/ipykernel/__main__.py:44: RuntimeWarning: divide by zero encountered in double_scalars\n",
      "INFO:ABC:t:1 eps:2.8349999999999977\n",
      "/usr/lib/python3.6/site-packages/ipykernel/__main__.py:44: RuntimeWarning: divide by zero encountered in double_scalars\n",
      "/usr/lib/python3.6/site-packages/ipykernel/__main__.py:44: RuntimeWarning: divide by zero encountered in double_scalars\n",
      "/usr/lib/python3.6/site-packages/ipykernel/__main__.py:44: RuntimeWarning: divide by zero encountered in double_scalars\n",
      "/usr/lib/python3.6/site-packages/ipykernel/__main__.py:44: RuntimeWarning: divide by zero encountered in double_scalars\n",
      "INFO:ABC:t:2 eps:1.715\n",
      "/usr/lib/python3.6/site-packages/ipykernel/__main__.py:44: RuntimeWarning: divide by zero encountered in double_scalars\n",
      "/usr/lib/python3.6/site-packages/ipykernel/__main__.py:44: RuntimeWarning: divide by zero encountered in double_scalars\n",
      "/usr/lib/python3.6/site-packages/ipykernel/__main__.py:44: RuntimeWarning: divide by zero encountered in double_scalars\n",
      "/usr/lib/python3.6/site-packages/ipykernel/__main__.py:44: RuntimeWarning: divide by zero encountered in double_scalars\n",
      "INFO:History:Done <ABCSMC(id=7, start_time=2017-09-12 14:16:42.487620, end_time=2017-09-12 14:16:48.448013)>\n"
     ]
    }
   ],
   "source": [
    "history = abc.run(minimum_epsilon=0, max_nr_populations=3)"
   ]
  },
  {
   "cell_type": "markdown",
   "metadata": {},
   "source": [
    "We first inspect the model probabilities."
   ]
  },
  {
   "cell_type": "code",
   "execution_count": 10,
   "metadata": {},
   "outputs": [
    {
     "data": {
      "image/png": "[encoded data removed]",
      "text/plain": [
       "<matplotlib.figure.Figure at 0x7ff86662b860>"
      ]
     },
     "metadata": {},
     "output_type": "display_data"
    }
   ],
   "source": [
    "ax = history.get_model_probabilities().plot.bar();\n",
    "ax.set_ylabel(\"Probability\");\n",
    "ax.set_xlabel(\"Generation\");\n",
    "ax.legend([1, 2], title=\"Model\");"
   ]
  },
  {
   "cell_type": "markdown",
   "metadata": {},
   "source": [
    "The mass at model 2 decreased, the mass at model 1 increased slowly.\n",
    "The correct model 1 is detected towards the later generations.\n",
    "We then inspect the distribution of the rate parameters:"
   ]
  },
  {
   "cell_type": "code",
   "execution_count": 11,
   "metadata": {},
   "outputs": [
    {
     "data": {
      "image/png": "[encoded data removed]",
      "text/plain": [
       "<matplotlib.figure.Figure at 0x7ff8665e2ba8>"
      ]
     },
     "metadata": {},
     "output_type": "display_data"
    }
   ],
   "source": [
    "from pyabc.visualization import plot_kde_1d\n",
    "fig, axes = plt.subplots(2)\n",
    "fig.set_size_inches((6,6))\n",
    "axes = axes.flatten()\n",
    "axes[0].axvline(true_rate, color=\"black\", linestyle=\"dotted\")\n",
    "for m, ax in enumerate(axes):\n",
    "    for t in range(history.n_populations):\n",
    "        df, w = history.get_distribution(m=m, t=t)\n",
    "        if len(w) > 0:  # Particles in a model might die out\n",
    "            plot_kde_1d(df, w, \"rate\", ax=ax, label=f\"t={t}\",\n",
    "                        xmin=0, xmax=20 if m == 0 else 100,\n",
    "                        numx=200)\n",
    "    ax.set_title(f\"Model {m+1}\")\n",
    "    ax.legend(title=\"Generation\");\n",
    "fig.tight_layout()"
   ]
  },
  {
   "cell_type": "markdown",
   "metadata": {},
   "source": [
    "The true rate is closely approximated by the posterior over the rate of model 1.\n",
    "It is a little harder to interpret the posterior over model 2.\n",
    "Apparently a rate between 20 and 40 yields data most similar to the obserbed one."
   ]
  }
 ],
 "metadata": {
  "celltoolbar": "Raw Cell Format",
  "kernelspec": {
   "display_name": "Python 3",
   "language": "python",
   "name": "python3"
  },
  "language_info": {
   "codemirror_mode": {
    "name": "ipython",
    "version": 3
   },
   "file_extension": ".py",
   "mimetype": "text/x-python",
   "name": "python",
   "nbconvert_exporter": "python",
   "pygments_lexer": "ipython3",
   "version": "3.6.2"
  }
 },
 "nbformat": 4,
 "nbformat_minor": 2
}
